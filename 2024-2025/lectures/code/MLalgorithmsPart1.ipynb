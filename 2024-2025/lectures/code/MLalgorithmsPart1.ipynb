{
  "nbformat": 4,
  "nbformat_minor": 0,
  "metadata": {
    "colab": {
      "name": "MLopenCourse.ipynb",
      "provenance": [],
      "collapsed_sections": [],
      "toc_visible": true
    },
    "kernelspec": {
      "display_name": "Python 3.7.2 64-bit ('myenv': venv)",
      "name": "python3"
    },
    "language_info": {
      "codemirror_mode": {
        "name": "ipython",
        "version": 3
      },
      "file_extension": ".py",
      "mimetype": "text/x-python",
      "name": "python",
      "nbconvert_exporter": "python",
      "pygments_lexer": "ipython3",
      "version": "3.7.2"
    }
  },
  "cells": [
    {
      "cell_type": "markdown",
      "metadata": {
        "id": "3LH0LrqRZlly"
      },
      "source": [
        "# Introducere"
      ]
    },
    {
      "cell_type": "markdown",
      "metadata": {
        "id": "Fj-2oPsnZjTJ"
      },
      "source": [
        "\n",
        "Scopul invatarii automate\n",
        "- crearea unei legaturi intre date (date de intrare si date de iesire, date cunoscute si date necunoascute)\n",
        "\n",
        "Cum?\n",
        "- cu ajutorul unui program1 menit sa antreneze un alt program2 (numit model de predictie) care va procesa informatiile propriu-zise (numite date de antrenament)\n",
        "- dupa antrenare, programul2 (modelul) va prelua date si va furniza rezultate (predictii)\n",
        "\n",
        "Invatarea automata\n",
        "- supervizata - atunci cand datele de antrenament sunt etichetate (= date de intrare cunoscute, date de iesire cunoscute)\n",
        "- nesupervizata - atunci cand datele de antrenament nu sunt etichetate (= date de intrare cunoscute, date de iesire necunoscute, dar exista unele informatii despre acestea)\n",
        "\n",
        "Pasi importanti in dezvoltarea unui proiect de invatare automata\n",
        "1. definirea problemei in terminologia invatarii automate\n",
        "2. colectarea si pregatirea datelor\n",
        "3. antrenarea unui model de predictie\n",
        "4. utilizarea modelului de predictie "
      ]
    },
    {
      "cell_type": "markdown",
      "metadata": {
        "id": "lvBeneLOZsNU"
      },
      "source": [
        "# Exemplificare probleme de regresie"
      ]
    },
    {
      "cell_type": "markdown",
      "metadata": {
        "id": "LS7zh-CwZ7Fs"
      },
      "source": [
        "## Prerequisites\n",
        "\n"
      ]
    },
    {
      "cell_type": "code",
      "metadata": {
        "id": "5dGfRnndZjTW",
        "cellView": "form"
      },
      "source": [
        "#@title run the code below to import the necessary dependencies \n",
        "\n",
        "import csv\n",
        "import matplotlib.pyplot as plt \n",
        "import os\n",
        "import io\n",
        "import requests\n",
        "import pandas as pd\n",
        "\n",
        "from sklearn import linear_model\n",
        "from sklearn.metrics import accuracy_score\n",
        "from sklearn.metrics import mean_squared_error\n",
        "from sklearn import linear_model\n",
        "\n",
        "  \n",
        "def loadData(fileName, featureNames, outputVariabName):\n",
        "    data = []\n",
        "    dataNames = []\n",
        "    csv_reader = csv.reader(fileName, delimiter=',')\n",
        "    line_count = 0\n",
        "    for row in csv_reader:\n",
        "        if line_count == 0:\n",
        "            dataNames = row\n",
        "        else:\n",
        "            data.append(row)\n",
        "        line_count += 1\n",
        "    inputs = []\n",
        "    for i in range(len(data)):\n",
        "        crtExample = []\n",
        "        for feature in featureNames:\n",
        "            selectedVariable = dataNames.index(feature)\n",
        "            crtExample.append(data[i][selectedVariable])\n",
        "        inputs.append(crtExample)\n",
        "        \n",
        "    selectedOutput = dataNames.index(outputVariabName)\n",
        "    outputs = []\n",
        "    for i in range(len(data)):\n",
        "        outputs.append(data[i][selectedOutput])\n",
        "    \n",
        "    return inputs, outputs\n",
        "\n",
        "def fromStringToNumericData(values):\n",
        "    if isinstance(values[0], list):\n",
        "        aux = []\n",
        "        for i in range(len(values)):\n",
        "            line = []\n",
        "            for j in range(len(values[i])):\n",
        "                line.append(float(values[i][j]))\n",
        "            aux.append(line)\n",
        "        return aux\n",
        "    else:\n",
        "        aux = []\n",
        "        for i in range(len(values)):\n",
        "            aux.append(float(values[i]))\n",
        "        return aux\n",
        "\n",
        "def getFeature(data, pos):\n",
        "    values = []\n",
        "    for i in range(len(data)):\n",
        "        values.append(data[i][pos])\n",
        "    return values\n",
        "\n",
        "def plotData(inputData, outputData, inputNames, outputName):\n",
        "    # a single feature\n",
        "    if len(inputData[0]) == 1: \n",
        "        featureValues = [inputData[i][0] for i in range(len(inputData))]        \n",
        "        fig = plt.plot(featureValues, outputData, 'ro') \n",
        "        plt.xlabel(inputNames[0])\n",
        "        plt.ylabel(outputName)\n",
        "        plt.title(outputName + ' for different ' + inputNames[0])\n",
        "        plt.show()\n",
        "    else:\n",
        "        # two features\n",
        "        if len(inputData[0]) == 2:\n",
        "            featureValues1 = [inputData[i][0] for i in range(len(inputData))] \n",
        "            featureValues2 = [inputData[i][1] for i in range(len(inputData))]   \n",
        "            from mpl_toolkits import mplot3d\n",
        "            ax = plt.axes(projection = '3d')\n",
        "            fig = plt.scatter(featureValues1, featureValues2, outputData, c = 'r', marker = 'o')\n",
        "            ax.set_xlabel(inputNames[0])\n",
        "            ax.set_ylabel(inputNames[1])\n",
        "            ax.set_zlabel(outputName)\n",
        "            plt.title(outputName + ' for different ' + inputNames[0] + ' and ' + inputNames[1])\n",
        "            plt.show()\n",
        "        else: \n",
        "            print('two many dimensions to be plotted...')\n",
        "            \n",
        "def plotHistograms(inputs, outputs):\n",
        "    noFeatures = len(inputs[0])\n",
        "    fig, ax = plt.subplots(1, noFeatures + 1,  figsize=(4 * (noFeatures + 1), 4))\n",
        "    for i in range(noFeatures):\n",
        "        crtFeatureValues = getFeature(inputs, i)\n",
        "        ax[i].hist(crtFeatureValues, 10, color = 'r')\n",
        "        ax[i].title.set_text('histogram of ' + featureNames[i])\n",
        "    ax[noFeatures].hist(outputs, 10, color = 'g')\n",
        "    ax[noFeatures].title.set_text('histogram of ' + outputName)\n",
        "\n",
        "    plt.show()\n",
        "\n",
        "def visualiseRegressor(regressor):\n",
        "    modelString = 'the learnt model: f(x) = ' + str(regressor.intercept_) \n",
        "    for i in range(noFeatures):\n",
        "        modelString = modelString + ' + ' + str(regressor.coef_[i]) + ' * x^' + str(i + 1)\n",
        "    print(modelString)\n",
        "\n",
        "def plotRegressor(regressor, inputs, outputs):\n",
        "    # prepare some synthetic data (inputs are random, while the outputs are computed by the learnt model)\n",
        "    noOfPoints = 500\n",
        "    xref = []\n",
        "    xvalues = getFeature(inputs, 0)\n",
        "    val = min(xvalues)\n",
        "    step = (max(xvalues) - min(xvalues)) / noOfPoints\n",
        "    for i in range(1, noOfPoints):\n",
        "        xref.append(val)\n",
        "        val += step\n",
        "    yref = [regressor.intercept_ + regressor.coef_[0] * el for el in xref] \n",
        "\n",
        "    plt.plot(inputs, outputs, 'ro', label = 'training data')  #train data are plotted by red and circle sign\n",
        "    plt.plot(xref, yref, 'b-', label = 'learnt model')                  #model is plotted by a blue line\n",
        "    plt.title('train data and the learnt model')\n",
        "    plt.xlabel('temp')\n",
        "    plt.ylabel('cnt')\n",
        "    plt.legend()\n",
        "    plt.show()\n",
        "\n",
        "def plotClassificationData(inputs, outputs, featureNames):\n",
        "    noExamples = len(inputs)\n",
        "    labels = set(outputs)\n",
        "    noData = len(inputs)\n",
        "    for crtLabel in labels:\n",
        "        x = [inputs[i][0] for i in range(noExamples) if outputs[i] == crtLabel ]\n",
        "        y = [inputs[i][1] for i in range(noExamples) if outputs[i] == crtLabel ]\n",
        "        plt.scatter(x, y, label = crtLabel)\n",
        "    plt.xlabel(featureNames[0])\n",
        "    plt.ylabel(featureNames[1])\n",
        "    plt.legend()\n",
        "    plt.show()  \n",
        "\n",
        "def plotPredictions(feature1, feature2, realOutputs, computedOutputs, title, featureNames, labels):\n",
        "    noData = len(feature1)\n",
        "    for crtLabel in labels:\n",
        "        x = [feature1[i] for i in range(noData) if realOutputs[i] == crtLabel and computedOutputs[i] == crtLabel ]\n",
        "        y = [feature2[i] for i in range(noData) if realOutputs[i] == crtLabel and computedOutputs[i] == crtLabel]\n",
        "        plt.scatter(x, y, label = crtLabel + ' (correct)')\n",
        "    for crtLabel in labels:\n",
        "        x = [feature1[i] for i in range(noData) if realOutputs[i] == crtLabel and computedOutputs[i] != crtLabel ]\n",
        "        y = [feature2[i] for i in range(noData) if realOutputs[i] == crtLabel and computedOutputs[i] != crtLabel]\n",
        "        plt.scatter(x, y, label = crtLabel + ' (incorrect)')\n",
        "    plt.xlabel(featureNames[0])\n",
        "    plt.ylabel(featureNames[1])\n",
        "    plt.legend()\n",
        "    plt.title(title)\n",
        "    plt.show()\n",
        "\n",
        "def countExamples(outputs):\n",
        "    labels = list(set(outputs)).sort()\n",
        "    distribution = {}\n",
        "    for label in outputs:\n",
        "        if label in distribution.keys():\n",
        "            distribution[label] += 1\n",
        "        else:\n",
        "            distribution[label] = 1\n",
        "    return distribution\n"
      ],
      "execution_count": 4,
      "outputs": []
    },
    {
      "cell_type": "markdown",
      "metadata": {
        "id": "Iy6P3wVZLye6"
      },
      "source": [
        "## Scenariul 1: predictia gradului de bunastare sociala pe baza PIB-ului \n",
        "\n",
        "\n",
        "Proces:\n",
        "- Se pleaca de la un set de date format din date economico-sociale diverse culese pentru mai multe tari\n",
        "- Se stabilesc variabile independente (PIB) si dependente (gradul de bunastare sociala)\n",
        "- Se aplica algoritmul de invatare pe setul de date de antrenament\n",
        "- Se realizeaza predictii ale gradului de bunastare sociala pentru noi valori ale PIB-ului"
      ]
    },
    {
      "cell_type": "code",
      "metadata": {
        "cellView": "form",
        "colab": {
          "base_uri": "https://localhost:8080/",
          "height": 203
        },
        "id": "Lcvdxc6g6mVA",
        "outputId": "a9e03054-6ae3-434d-de89-6d46b9a6ca03"
      },
      "source": [
        "#@title run the code below to inspect the raw data\n",
        "\n",
        "url = 'http://www.cs.ubbcluj.ro/~lauras/test/docs/docum/world-happiness-report-2017.csv'\n",
        "r = requests.get(url)\n",
        "filePath = io.StringIO(r.text)\n",
        "\n",
        "dataCrt = pd.read_csv(filePath)\n",
        "dataCrt.head()"
      ],
      "execution_count": 5,
      "outputs": [
        {
          "output_type": "execute_result",
          "data": {
            "text/html": [
              "<div>\n",
              "<style scoped>\n",
              "    .dataframe tbody tr th:only-of-type {\n",
              "        vertical-align: middle;\n",
              "    }\n",
              "\n",
              "    .dataframe tbody tr th {\n",
              "        vertical-align: top;\n",
              "    }\n",
              "\n",
              "    .dataframe thead th {\n",
              "        text-align: right;\n",
              "    }\n",
              "</style>\n",
              "<table border=\"1\" class=\"dataframe\">\n",
              "  <thead>\n",
              "    <tr style=\"text-align: right;\">\n",
              "      <th></th>\n",
              "      <th>Country</th>\n",
              "      <th>Happiness.Rank</th>\n",
              "      <th>Happiness.Score</th>\n",
              "      <th>Whisker.high</th>\n",
              "      <th>Whisker.low</th>\n",
              "      <th>Economy..GDP.per.Capita.</th>\n",
              "      <th>Family</th>\n",
              "      <th>Health..Life.Expectancy.</th>\n",
              "      <th>Freedom</th>\n",
              "      <th>Generosity</th>\n",
              "      <th>Trust..Government.Corruption.</th>\n",
              "      <th>Dystopia.Residual</th>\n",
              "    </tr>\n",
              "  </thead>\n",
              "  <tbody>\n",
              "    <tr>\n",
              "      <th>0</th>\n",
              "      <td>Norway</td>\n",
              "      <td>1</td>\n",
              "      <td>7.537</td>\n",
              "      <td>7.594445</td>\n",
              "      <td>7.479556</td>\n",
              "      <td>1.616463</td>\n",
              "      <td>1.533524</td>\n",
              "      <td>0.796667</td>\n",
              "      <td>0.635423</td>\n",
              "      <td>0.362012</td>\n",
              "      <td>0.315964</td>\n",
              "      <td>2.277027</td>\n",
              "    </tr>\n",
              "    <tr>\n",
              "      <th>1</th>\n",
              "      <td>Denmark</td>\n",
              "      <td>2</td>\n",
              "      <td>7.522</td>\n",
              "      <td>7.581728</td>\n",
              "      <td>7.462272</td>\n",
              "      <td>1.482383</td>\n",
              "      <td>1.551122</td>\n",
              "      <td>0.792566</td>\n",
              "      <td>0.626007</td>\n",
              "      <td>0.355280</td>\n",
              "      <td>0.400770</td>\n",
              "      <td>2.313707</td>\n",
              "    </tr>\n",
              "    <tr>\n",
              "      <th>2</th>\n",
              "      <td>Iceland</td>\n",
              "      <td>3</td>\n",
              "      <td>7.504</td>\n",
              "      <td>7.622030</td>\n",
              "      <td>7.385970</td>\n",
              "      <td>1.480633</td>\n",
              "      <td>1.610574</td>\n",
              "      <td>0.833552</td>\n",
              "      <td>0.627163</td>\n",
              "      <td>0.475540</td>\n",
              "      <td>0.153527</td>\n",
              "      <td>2.322715</td>\n",
              "    </tr>\n",
              "    <tr>\n",
              "      <th>3</th>\n",
              "      <td>Switzerland</td>\n",
              "      <td>4</td>\n",
              "      <td>7.494</td>\n",
              "      <td>7.561772</td>\n",
              "      <td>7.426227</td>\n",
              "      <td>1.564980</td>\n",
              "      <td>1.516912</td>\n",
              "      <td>0.858131</td>\n",
              "      <td>0.620071</td>\n",
              "      <td>0.290549</td>\n",
              "      <td>0.367007</td>\n",
              "      <td>2.276716</td>\n",
              "    </tr>\n",
              "    <tr>\n",
              "      <th>4</th>\n",
              "      <td>Finland</td>\n",
              "      <td>5</td>\n",
              "      <td>7.469</td>\n",
              "      <td>7.527542</td>\n",
              "      <td>7.410458</td>\n",
              "      <td>1.443572</td>\n",
              "      <td>1.540247</td>\n",
              "      <td>0.809158</td>\n",
              "      <td>0.617951</td>\n",
              "      <td>0.245483</td>\n",
              "      <td>0.382612</td>\n",
              "      <td>2.430182</td>\n",
              "    </tr>\n",
              "  </tbody>\n",
              "</table>\n",
              "</div>"
            ],
            "text/plain": [
              "       Country  ...  Dystopia.Residual\n",
              "0       Norway  ...           2.277027\n",
              "1      Denmark  ...           2.313707\n",
              "2      Iceland  ...           2.322715\n",
              "3  Switzerland  ...           2.276716\n",
              "4      Finland  ...           2.430182\n",
              "\n",
              "[5 rows x 12 columns]"
            ]
          },
          "metadata": {
            "tags": []
          },
          "execution_count": 5
        }
      ]
    },
    {
      "cell_type": "markdown",
      "metadata": {
        "id": "1dEeZED3MAcI"
      },
      "source": [
        "### Specificarea problemei \n",
        "\n",
        "- date de intrare: PIB\n",
        "- date de iesire: gradul de bunastare sociala"
      ]
    },
    {
      "cell_type": "code",
      "metadata": {
        "cellView": "form",
        "id": "OH0hWmDDMYTR"
      },
      "source": [
        "#@title run the code below for setting the input data and the output data\n",
        " \n",
        "url = 'http://www.cs.ubbcluj.ro/~lauras/test/docs/docum/world-happiness-report-2017.csv'\n",
        "r = requests.get(url)\n",
        "filePath = io.StringIO(r.text)\n",
        "\n",
        "# first use case: a model for predicting the happiness based on the GDP\n",
        "noFeatures = 1\n",
        "featureNames = ['Economy..GDP.per.Capita.']\n",
        "outputName = 'Happiness.Score'\n",
        "\n"
      ],
      "execution_count": 6,
      "outputs": []
    },
    {
      "cell_type": "markdown",
      "metadata": {
        "id": "FllTU2lXMYTd"
      },
      "source": [
        "### Incarcarea si auditarea datelor"
      ]
    },
    {
      "cell_type": "code",
      "metadata": {
        "cellView": "form",
        "colab": {
          "base_uri": "https://localhost:8080/",
          "height": 281
        },
        "id": "pvkhq_OEMYTd",
        "outputId": "c2181ee9-2522-4d94-999b-63c8acaa26a3"
      },
      "source": [
        "#@title run the code below for loading and auditing the data\n",
        "\n",
        "# load and audit the dataset\n",
        "inputs, outputs = loadData(filePath, featureNames, outputName)\n",
        "inputs = fromStringToNumericData(inputs)\n",
        "outputs = fromStringToNumericData(outputs)\n",
        "\n",
        "# see how the data looks (plot the histograms associated to input data - temperature - and output data - no bikes)\n",
        "plotHistograms(inputs, outputs)"
      ],
      "execution_count": 7,
      "outputs": [
        {
          "output_type": "display_data",
          "data": {
            "image/png": "[encoded data removed]",
            "text/plain": [
              "<Figure size 576x288 with 2 Axes>"
            ]
          },
          "metadata": {
            "tags": [],
            "needs_background": "light"
          }
        }
      ]
    },
    {
      "cell_type": "code",
      "metadata": {
        "cellView": "form",
        "colab": {
          "base_uri": "https://localhost:8080/",
          "height": 295
        },
        "id": "aePUKw7zM1hK",
        "outputId": "02baec8a-c764-4cce-edab-4678fc8bb3cf"
      },
      "source": [
        "#@title run the code below to check the relationship betwwen input and output data\n",
        "\n",
        "# check the relationship (to check that a linear relationship exists between the dependent variable (y = no bikes) and the independent variable (x = temp).)\n",
        "plotData(inputs, outputs, featureNames, outputName)"
      ],
      "execution_count": 8,
      "outputs": [
        {
          "output_type": "display_data",
          "data": {
            "image/png": "[encoded data removed]",
            "text/plain": [
              "<Figure size 432x288 with 1 Axes>"
            ]
          },
          "metadata": {
            "tags": [],
            "needs_background": "light"
          }
        }
      ]
    },
    {
      "cell_type": "markdown",
      "metadata": {
        "id": "OXvLbom5MYTe"
      },
      "source": [
        "### Antrenarea unui model de predictie"
      ]
    },
    {
      "cell_type": "code",
      "metadata": {
        "cellView": "form",
        "colab": {
          "base_uri": "https://localhost:8080/",
          "height": 330
        },
        "id": "aRq1fFWpMYTf",
        "outputId": "210356a3-8273-4754-fe8e-c738022dd279"
      },
      "source": [
        "#@title run the code below for training the regressor; the training error will be printed\n",
        "\n",
        "# learning step: init and train a linear regression model y = f(happiness) = w0 + w1 * GDP\n",
        "\n",
        "# model initialisation\n",
        "regressor = linear_model.LinearRegression()\n",
        "\n",
        "# training the model by using the training inputs and known training outputs\n",
        "regressor.fit(inputs, outputs)\n",
        "\n",
        "# visualise the trained model \n",
        "visualiseRegressor(regressor)\n",
        "\n",
        "# plot the learnt model\n",
        "if (noFeatures == 1):\n",
        "    plotRegressor(regressor, inputs, outputs)\n",
        "else:\n",
        "    print('to many dimensions...')\n",
        "\n",
        "computedOutputs = regressor.predict(inputs)\n",
        "error = mean_squared_error(outputs, computedOutputs)\n",
        "print('prediction training error:  ', error)"
      ],
      "execution_count": 9,
      "outputs": [
        {
          "output_type": "stream",
          "text": [
            "the learnt model: f(x) = 3.2032126826861878 + 2.1841849463496823 * x^1\n"
          ],
          "name": "stdout"
        },
        {
          "output_type": "display_data",
          "data": {
            "image/png": "[encoded data removed]",
            "text/plain": [
              "<Figure size 432x288 with 1 Axes>"
            ]
          },
          "metadata": {
            "tags": [],
            "needs_background": "light"
          }
        },
        {
          "output_type": "stream",
          "text": [
            "prediction training error:   0.43215056729547646\n"
          ],
          "name": "stdout"
        }
      ]
    },
    {
      "cell_type": "markdown",
      "metadata": {
        "id": "AXLwlxWAMYTf"
      },
      "source": [
        "### Utilizarea unui model de predictie"
      ]
    },
    {
      "cell_type": "code",
      "metadata": {
        "cellView": "form",
        "colab": {
          "base_uri": "https://localhost:8080/"
        },
        "id": "3EcKMPQJMYTf",
        "outputId": "bc4303c7-9ead-4ffe-c33a-c5d779c1d304"
      },
      "source": [
        "#@title run the code below for predicting the happiness score for some particular GDP values\n",
        "\n",
        "# use case: a model for predicting the happiness based on the GDP\n",
        "testData = [[1.1], [1.5], [1.3]]\n",
        "\n",
        "print('for a GDP value of ', testData[0], ' the predicted happiness scor is: ', regressor.predict(testData)[0])\n",
        "print('for a GDP value of ', testData[1], ' the predicted happiness scor is: ', regressor.predict(testData)[1])\n",
        "print('for a GDP value of ', testData[2], ' the predicted happiness scor is: ', regressor.predict(testData)[2])"
      ],
      "execution_count": 10,
      "outputs": [
        {
          "output_type": "stream",
          "text": [
            "for a GDP value of  [1.1]  the predicted happiness scor is:  5.605816123670838\n",
            "for a GDP value of  [1.5]  the predicted happiness scor is:  6.479490102210711\n",
            "for a GDP value of  [1.3]  the predicted happiness scor is:  6.042653112940775\n"
          ],
          "name": "stdout"
        }
      ]
    },
    {
      "cell_type": "markdown",
      "metadata": {
        "id": "xJj77pz8OY2X"
      },
      "source": [
        "## Scenariul 2: predictia numarului de biciclete inchiriate pe baza unor factori diversi precum temperatura, viteza vantului, ziua din saptamana, etc.\n",
        "\n",
        "Proces:\n",
        "- Se pleaca de la un set de date format din date diverse despre numarul de biciclete inchiriate\n",
        "- Se stabilesc variabile independente (temperatura, viteza vantului, ziua din saptamana) si dependente (nr de biciclete)\n",
        "- Se aplica algoritmul de invatare pe setul de date de antrenament\n",
        "- Se realizeaza predictii ale numarul de biciclete pe baza unuia sau unora dintre factorii de influenta"
      ]
    },
    {
      "cell_type": "code",
      "metadata": {
        "cellView": "form",
        "colab": {
          "base_uri": "https://localhost:8080/",
          "height": 203
        },
        "id": "fn8F3_sp7GeO",
        "outputId": "e3f52c9a-1a33-494c-a328-b08274d5c774"
      },
      "source": [
        "#@title run the code below to inspect the raw data\n",
        "\n",
        "url = 'http://www.cs.ubbcluj.ro/~lauras/test/docs/docum/hour.csv'\n",
        "r = requests.get(url)\n",
        "filePath = io.StringIO(r.text)\n",
        "\n",
        "dataCrt = pd.read_csv(filePath)\n",
        "dataCrt.head()"
      ],
      "execution_count": 11,
      "outputs": [
        {
          "output_type": "execute_result",
          "data": {
            "text/html": [
              "<div>\n",
              "<style scoped>\n",
              "    .dataframe tbody tr th:only-of-type {\n",
              "        vertical-align: middle;\n",
              "    }\n",
              "\n",
              "    .dataframe tbody tr th {\n",
              "        vertical-align: top;\n",
              "    }\n",
              "\n",
              "    .dataframe thead th {\n",
              "        text-align: right;\n",
              "    }\n",
              "</style>\n",
              "<table border=\"1\" class=\"dataframe\">\n",
              "  <thead>\n",
              "    <tr style=\"text-align: right;\">\n",
              "      <th></th>\n",
              "      <th>instant</th>\n",
              "      <th>dteday</th>\n",
              "      <th>season</th>\n",
              "      <th>yr</th>\n",
              "      <th>mnth</th>\n",
              "      <th>hr</th>\n",
              "      <th>holiday</th>\n",
              "      <th>weekday</th>\n",
              "      <th>workingday</th>\n",
              "      <th>weathersit</th>\n",
              "      <th>temp</th>\n",
              "      <th>atemp</th>\n",
              "      <th>hum</th>\n",
              "      <th>windspeed</th>\n",
              "      <th>casual</th>\n",
              "      <th>registered</th>\n",
              "      <th>cnt</th>\n",
              "    </tr>\n",
              "  </thead>\n",
              "  <tbody>\n",
              "    <tr>\n",
              "      <th>0</th>\n",
              "      <td>1</td>\n",
              "      <td>2011-01-01</td>\n",
              "      <td>1</td>\n",
              "      <td>0</td>\n",
              "      <td>1</td>\n",
              "      <td>0</td>\n",
              "      <td>0</td>\n",
              "      <td>6</td>\n",
              "      <td>0</td>\n",
              "      <td>1</td>\n",
              "      <td>0.24</td>\n",
              "      <td>0.2879</td>\n",
              "      <td>0.81</td>\n",
              "      <td>0.0</td>\n",
              "      <td>3</td>\n",
              "      <td>13</td>\n",
              "      <td>16</td>\n",
              "    </tr>\n",
              "    <tr>\n",
              "      <th>1</th>\n",
              "      <td>2</td>\n",
              "      <td>2011-01-01</td>\n",
              "      <td>1</td>\n",
              "      <td>0</td>\n",
              "      <td>1</td>\n",
              "      <td>1</td>\n",
              "      <td>0</td>\n",
              "      <td>6</td>\n",
              "      <td>0</td>\n",
              "      <td>1</td>\n",
              "      <td>0.22</td>\n",
              "      <td>0.2727</td>\n",
              "      <td>0.80</td>\n",
              "      <td>0.0</td>\n",
              "      <td>8</td>\n",
              "      <td>32</td>\n",
              "      <td>40</td>\n",
              "    </tr>\n",
              "    <tr>\n",
              "      <th>2</th>\n",
              "      <td>3</td>\n",
              "      <td>2011-01-01</td>\n",
              "      <td>1</td>\n",
              "      <td>0</td>\n",
              "      <td>1</td>\n",
              "      <td>2</td>\n",
              "      <td>0</td>\n",
              "      <td>6</td>\n",
              "      <td>0</td>\n",
              "      <td>1</td>\n",
              "      <td>0.22</td>\n",
              "      <td>0.2727</td>\n",
              "      <td>0.80</td>\n",
              "      <td>0.0</td>\n",
              "      <td>5</td>\n",
              "      <td>27</td>\n",
              "      <td>32</td>\n",
              "    </tr>\n",
              "    <tr>\n",
              "      <th>3</th>\n",
              "      <td>4</td>\n",
              "      <td>2011-01-01</td>\n",
              "      <td>1</td>\n",
              "      <td>0</td>\n",
              "      <td>1</td>\n",
              "      <td>3</td>\n",
              "      <td>0</td>\n",
              "      <td>6</td>\n",
              "      <td>0</td>\n",
              "      <td>1</td>\n",
              "      <td>0.24</td>\n",
              "      <td>0.2879</td>\n",
              "      <td>0.75</td>\n",
              "      <td>0.0</td>\n",
              "      <td>3</td>\n",
              "      <td>10</td>\n",
              "      <td>13</td>\n",
              "    </tr>\n",
              "    <tr>\n",
              "      <th>4</th>\n",
              "      <td>5</td>\n",
              "      <td>2011-01-01</td>\n",
              "      <td>1</td>\n",
              "      <td>0</td>\n",
              "      <td>1</td>\n",
              "      <td>4</td>\n",
              "      <td>0</td>\n",
              "      <td>6</td>\n",
              "      <td>0</td>\n",
              "      <td>1</td>\n",
              "      <td>0.24</td>\n",
              "      <td>0.2879</td>\n",
              "      <td>0.75</td>\n",
              "      <td>0.0</td>\n",
              "      <td>0</td>\n",
              "      <td>1</td>\n",
              "      <td>1</td>\n",
              "    </tr>\n",
              "  </tbody>\n",
              "</table>\n",
              "</div>"
            ],
            "text/plain": [
              "   instant      dteday  season  yr  ...  windspeed  casual  registered  cnt\n",
              "0        1  2011-01-01       1   0  ...        0.0       3          13   16\n",
              "1        2  2011-01-01       1   0  ...        0.0       8          32   40\n",
              "2        3  2011-01-01       1   0  ...        0.0       5          27   32\n",
              "3        4  2011-01-01       1   0  ...        0.0       3          10   13\n",
              "4        5  2011-01-01       1   0  ...        0.0       0           1    1\n",
              "\n",
              "[5 rows x 17 columns]"
            ]
          },
          "metadata": {
            "tags": []
          },
          "execution_count": 11
        }
      ]
    },
    {
      "cell_type": "markdown",
      "metadata": {
        "id": "tyUlniiaOY2h"
      },
      "source": [
        "### Specificarea problemei \n",
        "\n",
        "- date de intrare: viteza vantului\n",
        "- date de iesire: nr de biciclete"
      ]
    },
    {
      "cell_type": "code",
      "metadata": {
        "id": "oyT98AGBOY2i"
      },
      "source": [
        "#@title run the code below for setting the input data and the output data\n",
        "\n",
        "# first use case: a model for predicting the no of bikes based on the wind speed\n",
        "noFeatures = 1\n",
        "featureNames = ['windspeed']\n",
        "outputName = 'cnt'\n"
      ],
      "execution_count": 12,
      "outputs": []
    },
    {
      "cell_type": "markdown",
      "metadata": {
        "id": "nsK3de3dOY2i"
      },
      "source": [
        "### Incarcarea si auditarea datelor"
      ]
    },
    {
      "cell_type": "code",
      "metadata": {
        "cellView": "form",
        "colab": {
          "base_uri": "https://localhost:8080/",
          "height": 281
        },
        "id": "cnqDwPagOY2j",
        "outputId": "24981c57-2be8-46de-aebe-6bd471d0d1dc"
      },
      "source": [
        "#@title run the code below for loading and auditing the data\n",
        "\n",
        "url = 'http://www.cs.ubbcluj.ro/~lauras/test/docs/docum/hour.csv'\n",
        "r = requests.get(url)\n",
        "filePath = io.StringIO(r.text)\n",
        "\n",
        "# load and audit the dataset\n",
        "inputs, outputs = loadData(filePath, featureNames, outputName)\n",
        "inputs = fromStringToNumericData(inputs)\n",
        "outputs = fromStringToNumericData(outputs)\n",
        "\n",
        "# see how the data looks (plot the histograms associated to input data - temperature - and output data - no bikes)\n",
        "plotHistograms(inputs, outputs)"
      ],
      "execution_count": 13,
      "outputs": [
        {
          "output_type": "display_data",
          "data": {
            "image/png": "[encoded data removed]",
            "text/plain": [
              "<Figure size 576x288 with 2 Axes>"
            ]
          },
          "metadata": {
            "tags": [],
            "needs_background": "light"
          }
        }
      ]
    },
    {
      "cell_type": "code",
      "metadata": {
        "cellView": "form",
        "colab": {
          "base_uri": "https://localhost:8080/",
          "height": 295
        },
        "id": "8enVpRX5OY2j",
        "outputId": "031bcf2c-2463-4972-bd25-b7b6fdc43734"
      },
      "source": [
        "#@title run the code below to check the relationship betwwen input and output data\n",
        "\n",
        "# check the relationship (to check that a linear relationship exists between the dependent variable (y = no bikes) and the independent variable (x = temp).)\n",
        "plotData(inputs, outputs, featureNames, outputName)"
      ],
      "execution_count": 14,
      "outputs": [
        {
          "output_type": "display_data",
          "data": {
            "image/png": "[encoded data removed]",
            "text/plain": [
              "<Figure size 432x288 with 1 Axes>"
            ]
          },
          "metadata": {
            "tags": [],
            "needs_background": "light"
          }
        }
      ]
    },
    {
      "cell_type": "markdown",
      "metadata": {
        "id": "BCnzgznrOY2j"
      },
      "source": [
        "### Antrenarea unui model de predictie"
      ]
    },
    {
      "cell_type": "code",
      "metadata": {
        "cellView": "form",
        "colab": {
          "base_uri": "https://localhost:8080/",
          "height": 330
        },
        "id": "J3J5TcQUOY2k",
        "outputId": "0b178f06-9618-4254-b40c-38a228dcea1b"
      },
      "source": [
        "#@title run the code below for training the regressor; the training error will be printed\n",
        "\n",
        "# learning step: init and train a linear regression model y = f(noBikes) = w0 + w1 * windspeed\n",
        "\n",
        "# model initialisation\n",
        "regressor2 = linear_model.LinearRegression()\n",
        "\n",
        "# training the model by using the training inputs and known training outputs\n",
        "regressor2.fit(inputs, outputs)\n",
        "\n",
        "# visualise the trained model \n",
        "visualiseRegressor(regressor2)\n",
        "\n",
        "# plot the learnt model\n",
        "if (noFeatures == 1):\n",
        "    plotRegressor(regressor2, inputs, outputs)\n",
        "else:\n",
        "    print('to many dimensions...')\n",
        "\n",
        "computedOutputs = regressor2.predict(inputs)\n",
        "error = mean_squared_error(outputs, computedOutputs)\n",
        "print('prediction training error:  ', error)"
      ],
      "execution_count": 15,
      "outputs": [
        {
          "output_type": "stream",
          "text": [
            "the learnt model: f(x) = 163.18533236292936 + 138.23296243514469 * x^1\n"
          ],
          "name": "stdout"
        },
        {
          "output_type": "display_data",
          "data": {
            "image/png": "[encoded data removed]",
            "text/plain": [
              "<Figure size 432x288 with 1 Axes>"
            ]
          },
          "metadata": {
            "tags": [],
            "needs_background": "light"
          }
        },
        {
          "output_type": "stream",
          "text": [
            "prediction training error:   32613.58717115028\n"
          ],
          "name": "stdout"
        }
      ]
    },
    {
      "cell_type": "markdown",
      "metadata": {
        "id": "_Bm8bqFqOY2k"
      },
      "source": [
        "### Utilizarea unui model de predictie"
      ]
    },
    {
      "cell_type": "code",
      "metadata": {
        "cellView": "form",
        "colab": {
          "base_uri": "https://localhost:8080/"
        },
        "id": "AJ8bJ61bOY2k",
        "outputId": "85206b9c-27d4-44ad-9bb8-713eff4bc9eb"
      },
      "source": [
        "#@title run the code below for predicting the happiness score for some particular windspeed values\n",
        "\n",
        "# predict the number of bikes for a set of new 3 windspeed\n",
        "testData = [[0.3284], [0.2985], [0.3015]]\n",
        "\n",
        "print('for a wind speed of ', testData[0], ' the predicted no bikes is: ', regressor.predict(testData)[0])\n",
        "print('for a wind speed of ', testData[1], ' the predicted no bikes is: ', regressor.predict(testData)[1])\n",
        "print('for a wind speed of ', testData[2], ' the predicted no bikes is: ', regressor.predict(testData)[2])"
      ],
      "execution_count": 16,
      "outputs": [
        {
          "output_type": "stream",
          "text": [
            "for a wind speed of  [0.3284]  the predicted no bikes is:  3.9204990190674236\n",
            "for a wind speed of  [0.2985]  the predicted no bikes is:  3.855191889171568\n",
            "for a wind speed of  [0.3015]  the predicted no bikes is:  3.861744444010617\n"
          ],
          "name": "stdout"
        }
      ]
    },
    {
      "cell_type": "markdown",
      "metadata": {
        "id": "xwBVkeLyQW4J"
      },
      "source": [
        "## Scenariul 3: predictia numarului de biciclete inchiriate pe baza unor factori diversi precum temperatura, viteza vantului, ziua din saptamana, etc.\n",
        "\n",
        "Proces:\n",
        "- Se pleaca de la un set de date format din date diverse despre numarul de biciclete inchiriate\n",
        "- Se stabilesc variabile independente (temperatura, viteza vantului, ziua din saptamana) si dependente (nr de biciclete)\n",
        "- Se aplica algoritmul de invatare pe setul de date de antrenament\n",
        "- Se realizeaza predictii ale numarul de biciclete pe baza unuia sau unora dintre factorii de influenta"
      ]
    },
    {
      "cell_type": "code",
      "metadata": {
        "cellView": "form",
        "colab": {
          "base_uri": "https://localhost:8080/",
          "height": 203
        },
        "id": "W_ghIcpf7TKZ",
        "outputId": "fed285c4-4be8-4d40-eea9-409f424d4661"
      },
      "source": [
        "#@title run the code below to inspect the raw data\n",
        "\n",
        "url = 'http://www.cs.ubbcluj.ro/~lauras/test/docs/docum/hour.csv'\n",
        "r = requests.get(url)\n",
        "filePath = io.StringIO(r.text)\n",
        "\n",
        "dataCrt = pd.read_csv(filePath)\n",
        "dataCrt.head()"
      ],
      "execution_count": 17,
      "outputs": [
        {
          "output_type": "execute_result",
          "data": {
            "text/html": [
              "<div>\n",
              "<style scoped>\n",
              "    .dataframe tbody tr th:only-of-type {\n",
              "        vertical-align: middle;\n",
              "    }\n",
              "\n",
              "    .dataframe tbody tr th {\n",
              "        vertical-align: top;\n",
              "    }\n",
              "\n",
              "    .dataframe thead th {\n",
              "        text-align: right;\n",
              "    }\n",
              "</style>\n",
              "<table border=\"1\" class=\"dataframe\">\n",
              "  <thead>\n",
              "    <tr style=\"text-align: right;\">\n",
              "      <th></th>\n",
              "      <th>instant</th>\n",
              "      <th>dteday</th>\n",
              "      <th>season</th>\n",
              "      <th>yr</th>\n",
              "      <th>mnth</th>\n",
              "      <th>hr</th>\n",
              "      <th>holiday</th>\n",
              "      <th>weekday</th>\n",
              "      <th>workingday</th>\n",
              "      <th>weathersit</th>\n",
              "      <th>temp</th>\n",
              "      <th>atemp</th>\n",
              "      <th>hum</th>\n",
              "      <th>windspeed</th>\n",
              "      <th>casual</th>\n",
              "      <th>registered</th>\n",
              "      <th>cnt</th>\n",
              "    </tr>\n",
              "  </thead>\n",
              "  <tbody>\n",
              "    <tr>\n",
              "      <th>0</th>\n",
              "      <td>1</td>\n",
              "      <td>2011-01-01</td>\n",
              "      <td>1</td>\n",
              "      <td>0</td>\n",
              "      <td>1</td>\n",
              "      <td>0</td>\n",
              "      <td>0</td>\n",
              "      <td>6</td>\n",
              "      <td>0</td>\n",
              "      <td>1</td>\n",
              "      <td>0.24</td>\n",
              "      <td>0.2879</td>\n",
              "      <td>0.81</td>\n",
              "      <td>0.0</td>\n",
              "      <td>3</td>\n",
              "      <td>13</td>\n",
              "      <td>16</td>\n",
              "    </tr>\n",
              "    <tr>\n",
              "      <th>1</th>\n",
              "      <td>2</td>\n",
              "      <td>2011-01-01</td>\n",
              "      <td>1</td>\n",
              "      <td>0</td>\n",
              "      <td>1</td>\n",
              "      <td>1</td>\n",
              "      <td>0</td>\n",
              "      <td>6</td>\n",
              "      <td>0</td>\n",
              "      <td>1</td>\n",
              "      <td>0.22</td>\n",
              "      <td>0.2727</td>\n",
              "      <td>0.80</td>\n",
              "      <td>0.0</td>\n",
              "      <td>8</td>\n",
              "      <td>32</td>\n",
              "      <td>40</td>\n",
              "    </tr>\n",
              "    <tr>\n",
              "      <th>2</th>\n",
              "      <td>3</td>\n",
              "      <td>2011-01-01</td>\n",
              "      <td>1</td>\n",
              "      <td>0</td>\n",
              "      <td>1</td>\n",
              "      <td>2</td>\n",
              "      <td>0</td>\n",
              "      <td>6</td>\n",
              "      <td>0</td>\n",
              "      <td>1</td>\n",
              "      <td>0.22</td>\n",
              "      <td>0.2727</td>\n",
              "      <td>0.80</td>\n",
              "      <td>0.0</td>\n",
              "      <td>5</td>\n",
              "      <td>27</td>\n",
              "      <td>32</td>\n",
              "    </tr>\n",
              "    <tr>\n",
              "      <th>3</th>\n",
              "      <td>4</td>\n",
              "      <td>2011-01-01</td>\n",
              "      <td>1</td>\n",
              "      <td>0</td>\n",
              "      <td>1</td>\n",
              "      <td>3</td>\n",
              "      <td>0</td>\n",
              "      <td>6</td>\n",
              "      <td>0</td>\n",
              "      <td>1</td>\n",
              "      <td>0.24</td>\n",
              "      <td>0.2879</td>\n",
              "      <td>0.75</td>\n",
              "      <td>0.0</td>\n",
              "      <td>3</td>\n",
              "      <td>10</td>\n",
              "      <td>13</td>\n",
              "    </tr>\n",
              "    <tr>\n",
              "      <th>4</th>\n",
              "      <td>5</td>\n",
              "      <td>2011-01-01</td>\n",
              "      <td>1</td>\n",
              "      <td>0</td>\n",
              "      <td>1</td>\n",
              "      <td>4</td>\n",
              "      <td>0</td>\n",
              "      <td>6</td>\n",
              "      <td>0</td>\n",
              "      <td>1</td>\n",
              "      <td>0.24</td>\n",
              "      <td>0.2879</td>\n",
              "      <td>0.75</td>\n",
              "      <td>0.0</td>\n",
              "      <td>0</td>\n",
              "      <td>1</td>\n",
              "      <td>1</td>\n",
              "    </tr>\n",
              "  </tbody>\n",
              "</table>\n",
              "</div>"
            ],
            "text/plain": [
              "   instant      dteday  season  yr  ...  windspeed  casual  registered  cnt\n",
              "0        1  2011-01-01       1   0  ...        0.0       3          13   16\n",
              "1        2  2011-01-01       1   0  ...        0.0       8          32   40\n",
              "2        3  2011-01-01       1   0  ...        0.0       5          27   32\n",
              "3        4  2011-01-01       1   0  ...        0.0       3          10   13\n",
              "4        5  2011-01-01       1   0  ...        0.0       0           1    1\n",
              "\n",
              "[5 rows x 17 columns]"
            ]
          },
          "metadata": {
            "tags": []
          },
          "execution_count": 17
        }
      ]
    },
    {
      "cell_type": "markdown",
      "metadata": {
        "id": "VYw5ZuCQQW4V"
      },
      "source": [
        "### Specificarea problemei \n",
        "\n",
        "- date de intrare: viteza vantului, temperatura\n",
        "- date de iesire: nr de biciclete"
      ]
    },
    {
      "cell_type": "code",
      "metadata": {
        "id": "Ro73-HN3QW4V"
      },
      "source": [
        "#@title run the code below for setting the input data and the output data\n",
        "\n",
        "# second use case: a model for predicting the no of bikes based on the temperature and the wind speed\n",
        "noFeatures = 2\n",
        "featureNames = ['atemp', 'windspeed']\n",
        "outputName = 'cnt'\n",
        "\n",
        "url = 'http://www.cs.ubbcluj.ro/~lauras/test/docs/docum/hour.csv'\n",
        "r = requests.get(url)\n",
        "filePath = io.StringIO(r.text)"
      ],
      "execution_count": 18,
      "outputs": []
    },
    {
      "cell_type": "markdown",
      "metadata": {
        "id": "JZXs2ZQkQW4V"
      },
      "source": [
        "### Incarcarea si auditarea datelor"
      ]
    },
    {
      "cell_type": "code",
      "metadata": {
        "cellView": "form",
        "colab": {
          "base_uri": "https://localhost:8080/",
          "height": 281
        },
        "id": "RYtPHPzGQW4W",
        "outputId": "9c5f6162-2c1f-4a07-9558-fc4531d358aa"
      },
      "source": [
        "#@title run the code below for loading and auditing the data\n",
        "\n",
        "# load and audit the dataset\n",
        "inputs, outputs = loadData(filePath, featureNames, outputName)\n",
        "inputs = fromStringToNumericData(inputs)\n",
        "outputs = fromStringToNumericData(outputs)\n",
        "\n",
        "# see how the data looks (plot the histograms associated to input data - temperature - and output data - no bikes)\n",
        "plotHistograms(inputs, outputs)"
      ],
      "execution_count": 19,
      "outputs": [
        {
          "output_type": "display_data",
          "data": {
            "image/png": "[encoded data removed]",
            "text/plain": [
              "<Figure size 864x288 with 3 Axes>"
            ]
          },
          "metadata": {
            "tags": [],
            "needs_background": "light"
          }
        }
      ]
    },
    {
      "cell_type": "code",
      "metadata": {
        "cellView": "form",
        "colab": {
          "base_uri": "https://localhost:8080/",
          "height": 248
        },
        "id": "Ekzt4vnBQW4W",
        "outputId": "a6f0c133-ff45-44ad-81e1-047d46b183c2"
      },
      "source": [
        "#@title run the code below to check the relationship between input and output data\n",
        "\n",
        "# check the relationship (to check that a linear relationship exists between the dependent variable (y = no bikes) and the independent variable (x = temp).)\n",
        "plotData(inputs, outputs, featureNames, outputName)"
      ],
      "execution_count": 20,
      "outputs": [
        {
          "output_type": "display_data",
          "data": {
            "image/png": "[encoded data removed]",
            "text/plain": [
              "<Figure size 432x288 with 1 Axes>"
            ]
          },
          "metadata": {
            "tags": [],
            "needs_background": "light"
          }
        }
      ]
    },
    {
      "cell_type": "markdown",
      "metadata": {
        "id": "PtNf0e7KQW4X"
      },
      "source": [
        "### Antrenarea unui model de predictie"
      ]
    },
    {
      "cell_type": "code",
      "metadata": {
        "cellView": "form",
        "colab": {
          "base_uri": "https://localhost:8080/"
        },
        "id": "6xOGdYlqQW4X",
        "outputId": "bcccb842-38b8-40ca-d2d8-d63f1bb8adc9"
      },
      "source": [
        "#@title run the code below for training the regressor; the training error will be printed\n",
        "\n",
        "# learning step: init and train a linear regression model y = f(noBikes) = w0 + w1 * windspeed\n",
        "\n",
        "# model initialisation\n",
        "regressor3 = linear_model.LinearRegression()\n",
        "\n",
        "# training the model by using the training inputs and known training outputs\n",
        "regressor3.fit(inputs, outputs)\n",
        "\n",
        "# visualise the trained model \n",
        "visualiseRegressor(regressor3)\n",
        "\n",
        "# plot the learnt model\n",
        "if (noFeatures == 1):\n",
        "    plotRegressor(regressor3, inputs, outputs)\n",
        "else:\n",
        "    print('to many dimensions...')\n",
        "\n",
        "computedOutputs = regressor3.predict(inputs)\n",
        "error = mean_squared_error(outputs, computedOutputs)\n",
        "print('prediction training error:  ', error)"
      ],
      "execution_count": 21,
      "outputs": [
        {
          "output_type": "stream",
          "text": [
            "the learnt model: f(x) = -49.042662583697506 + 430.9892740313349 * x^1 + 175.97162319354254 * x^2\n",
            "to many dimensions...\n",
            "prediction training error:   27149.50482688288\n"
          ],
          "name": "stdout"
        }
      ]
    },
    {
      "cell_type": "markdown",
      "metadata": {
        "id": "OLTcnz7eQW4X"
      },
      "source": [
        "### Utilizarea unui model de predictie"
      ]
    },
    {
      "cell_type": "code",
      "metadata": {
        "cellView": "form",
        "colab": {
          "base_uri": "https://localhost:8080/"
        },
        "id": "8rOEFNt2QW4Y",
        "outputId": "172a7373-8b06-4986-960b-3e7c1ecb5490"
      },
      "source": [
        "#@title run the code below for predicting the happiness score for some particular temperature and windspeed values\n",
        "\n",
        "# predict the number of bikes for a set of new 3 tempeatures and 3 windspeeds \n",
        "testData = [[0.33, 0.3284], [0.46, 0.2985], [0.42, 0.3015]]\n",
        "\n",
        "print('for temp and windspeed values of ', testData[0], ' the predicted no bikes is: ;', regressor3.predict(testData)[0])\n",
        "print('for temp and windspeed values of ', testData[1], ' the predicted no bikes is: ;', regressor3.predict(testData)[1])\n",
        "print('for temp and windspeed values of ', testData[2], ' the predicted no bikes is: ;', regressor3.predict(testData)[2])"
      ],
      "execution_count": 22,
      "outputs": [
        {
          "output_type": "stream",
          "text": [
            "for temp and windspeed values of  [0.33, 0.3284]  the predicted no bikes is: ; 150.9728789034024\n",
            "for temp and windspeed values of  [0.46, 0.2985]  the predicted no bikes is: ; 201.73993299398902\n",
            "for temp and windspeed values of  [0.42, 0.3015]  the predicted no bikes is: ; 185.0282769023162\n"
          ],
          "name": "stdout"
        }
      ]
    },
    {
      "cell_type": "markdown",
      "metadata": {
        "id": "0ezA3x3nfKxU"
      },
      "source": [
        "# Exemplificare probleme de clasificare \n",
        "\n",
        "Se doreste identificarea tipului de tesut mamar pe baza unor masuratori bioelectrice (e.g. I0  - impedanta la frecventa 0, MaxIP - spectrul maxim, Area - Aria de sub spectru, etc.)\n",
        "\n",
        "\n"
      ]
    },
    {
      "cell_type": "markdown",
      "metadata": {
        "id": "y9RbCJy_EYCW"
      },
      "source": [
        "## Scenariul 1: predictia tipului de tesut (normal sau patologic) pe baza caracteristicilor MaxIP si Area\n",
        "\n",
        "Proces:\n",
        "- Se pleaca de la un set de date format din masuratorile bioelectrice asociate unor probe de tesut mamar  si etichetele asociate lor\n",
        "- se aleg anumite caracteristici dintre aceste masuratori (drept variabile independente) precum MaxIP si Area\n",
        "- Se aplica algoritmul de invatare pe setul de antrenament\n",
        "- Se realizeaza predictii pentru noi mesaje (= se eticheteaza noi mesaje)"
      ]
    },
    {
      "cell_type": "code",
      "metadata": {
        "cellView": "form",
        "colab": {
          "base_uri": "https://localhost:8080/",
          "height": 203
        },
        "id": "EIbGXG2C7gL_",
        "outputId": "2ad479f9-d3b5-4ea6-a482-4fc8b5c5efba"
      },
      "source": [
        "#@title run the code below to inspect the raw data\n",
        "\n",
        "url = 'http://www.cs.ubbcluj.ro/~lauras/test/docs/docum/breastCancerBin.csv'\n",
        "r = requests.get(url)\n",
        "filePath = io.StringIO(r.text)\n",
        "\n",
        "dataCrt = pd.read_csv(filePath)\n",
        "dataCrt.head()"
      ],
      "execution_count": 23,
      "outputs": [
        {
          "output_type": "execute_result",
          "data": {
            "text/html": [
              "<div>\n",
              "<style scoped>\n",
              "    .dataframe tbody tr th:only-of-type {\n",
              "        vertical-align: middle;\n",
              "    }\n",
              "\n",
              "    .dataframe tbody tr th {\n",
              "        vertical-align: top;\n",
              "    }\n",
              "\n",
              "    .dataframe thead th {\n",
              "        text-align: right;\n",
              "    }\n",
              "</style>\n",
              "<table border=\"1\" class=\"dataframe\">\n",
              "  <thead>\n",
              "    <tr style=\"text-align: right;\">\n",
              "      <th></th>\n",
              "      <th>Case#</th>\n",
              "      <th>Class</th>\n",
              "      <th>I0</th>\n",
              "      <th>PA500</th>\n",
              "      <th>HFS</th>\n",
              "      <th>DA</th>\n",
              "      <th>Area</th>\n",
              "      <th>A/DA</th>\n",
              "      <th>MaxIP</th>\n",
              "      <th>DR</th>\n",
              "      <th>P</th>\n",
              "    </tr>\n",
              "  </thead>\n",
              "  <tbody>\n",
              "    <tr>\n",
              "      <th>0</th>\n",
              "      <td>1</td>\n",
              "      <td>pathological</td>\n",
              "      <td>524.794072</td>\n",
              "      <td>0.187448</td>\n",
              "      <td>0.032114</td>\n",
              "      <td>228.800228</td>\n",
              "      <td>6843.598481</td>\n",
              "      <td>29.910803</td>\n",
              "      <td>60.204880</td>\n",
              "      <td>220.737212</td>\n",
              "      <td>556.828334</td>\n",
              "    </tr>\n",
              "    <tr>\n",
              "      <th>1</th>\n",
              "      <td>2</td>\n",
              "      <td>pathological</td>\n",
              "      <td>330.000000</td>\n",
              "      <td>0.226893</td>\n",
              "      <td>0.265290</td>\n",
              "      <td>121.154201</td>\n",
              "      <td>3163.239472</td>\n",
              "      <td>26.109202</td>\n",
              "      <td>69.717361</td>\n",
              "      <td>99.084964</td>\n",
              "      <td>400.225776</td>\n",
              "    </tr>\n",
              "    <tr>\n",
              "      <th>2</th>\n",
              "      <td>3</td>\n",
              "      <td>pathological</td>\n",
              "      <td>551.879287</td>\n",
              "      <td>0.232478</td>\n",
              "      <td>0.063530</td>\n",
              "      <td>264.804935</td>\n",
              "      <td>11888.391830</td>\n",
              "      <td>44.894903</td>\n",
              "      <td>77.793297</td>\n",
              "      <td>253.785300</td>\n",
              "      <td>656.769449</td>\n",
              "    </tr>\n",
              "    <tr>\n",
              "      <th>3</th>\n",
              "      <td>4</td>\n",
              "      <td>pathological</td>\n",
              "      <td>380.000000</td>\n",
              "      <td>0.240855</td>\n",
              "      <td>0.286234</td>\n",
              "      <td>137.640111</td>\n",
              "      <td>5402.171180</td>\n",
              "      <td>39.248524</td>\n",
              "      <td>88.758446</td>\n",
              "      <td>105.198568</td>\n",
              "      <td>493.701813</td>\n",
              "    </tr>\n",
              "    <tr>\n",
              "      <th>4</th>\n",
              "      <td>5</td>\n",
              "      <td>pathological</td>\n",
              "      <td>362.831266</td>\n",
              "      <td>0.200713</td>\n",
              "      <td>0.244346</td>\n",
              "      <td>124.912559</td>\n",
              "      <td>3290.462446</td>\n",
              "      <td>26.342127</td>\n",
              "      <td>69.389389</td>\n",
              "      <td>103.866552</td>\n",
              "      <td>424.796503</td>\n",
              "    </tr>\n",
              "  </tbody>\n",
              "</table>\n",
              "</div>"
            ],
            "text/plain": [
              "   Case#         Class          I0  ...      MaxIP          DR           P\n",
              "0      1  pathological  524.794072  ...  60.204880  220.737212  556.828334\n",
              "1      2  pathological  330.000000  ...  69.717361   99.084964  400.225776\n",
              "2      3  pathological  551.879287  ...  77.793297  253.785300  656.769449\n",
              "3      4  pathological  380.000000  ...  88.758446  105.198568  493.701813\n",
              "4      5  pathological  362.831266  ...  69.389389  103.866552  424.796503\n",
              "\n",
              "[5 rows x 11 columns]"
            ]
          },
          "metadata": {
            "tags": []
          },
          "execution_count": 23
        }
      ]
    },
    {
      "cell_type": "markdown",
      "metadata": {
        "id": "MJR3nOwjElCt"
      },
      "source": [
        "### Specificarea problemei\n",
        "- stabilirea caracteristicilor (date de intrare) - MaxIP si Area\n",
        "- stabilirea valorilor care trebuie prezise (date de iesire) - tipul de tesut (normal sau patologic)"
      ]
    },
    {
      "cell_type": "code",
      "metadata": {
        "cellView": "form",
        "id": "_6TmEhItfRgn"
      },
      "source": [
        "#@title run the code below for setting the input data and the output data\n",
        "# first use case: predict the type of tissue (connective, adipose, glandular, carcinoma, fibro-adenoma, mastopathy) based on MaxIP and Area\n",
        "noFeatures = 2\n",
        "featureNames = ['MaxIP', 'Area']\n",
        "outputName = 'Class'"
      ],
      "execution_count": 24,
      "outputs": []
    },
    {
      "cell_type": "markdown",
      "metadata": {
        "id": "g9Yf3qFBBPhq"
      },
      "source": [
        "### Incarcarea si auditarea datelor"
      ]
    },
    {
      "cell_type": "code",
      "metadata": {
        "cellView": "form",
        "colab": {
          "base_uri": "https://localhost:8080/",
          "height": 543
        },
        "id": "jKNrr5DFA_db",
        "outputId": "68a2154e-e0c0-40cb-9116-7bea90f26f40"
      },
      "source": [
        "#@title run the code below for loading and auditing the data\n",
        "\n",
        "url = 'http://www.cs.ubbcluj.ro/~lauras/test/docs/docum/breastCancerBin.csv'\n",
        "r = requests.get(url)\n",
        "filePath = io.StringIO(r.text)\n",
        "\n",
        "\n",
        "inputs, outputs = loadData(filePath, featureNames, outputName)\n",
        "inputs = fromStringToNumericData(inputs)\n",
        "\n",
        "# audit the data\n",
        "plotHistograms(inputs, outputs)\n",
        "if (noFeatures == 2):\n",
        "    plotClassificationData(inputs, outputs, featureNames)"
      ],
      "execution_count": 25,
      "outputs": [
        {
          "output_type": "display_data",
          "data": {
            "image/png": "[encoded data removed]",
            "text/plain": [
              "<Figure size 864x288 with 3 Axes>"
            ]
          },
          "metadata": {
            "tags": [],
            "needs_background": "light"
          }
        },
        {
          "output_type": "display_data",
          "data": {
            "image/png": "[encoded data removed]",
            "text/plain": [
              "<Figure size 432x288 with 1 Axes>"
            ]
          },
          "metadata": {
            "tags": [],
            "needs_background": "light"
          }
        }
      ]
    },
    {
      "cell_type": "markdown",
      "metadata": {
        "id": "4lv6dnCZE5dO"
      },
      "source": [
        "### Antrenarea unui model de predictie"
      ]
    },
    {
      "cell_type": "code",
      "metadata": {
        "colab": {
          "base_uri": "https://localhost:8080/"
        },
        "id": "aelQYiKd73Lc",
        "cellView": "form",
        "outputId": "7edf57f1-2f8d-4bac-d42a-74a14557578f"
      },
      "source": [
        "#@title run the code below for training the classifier; the training error will be printed\n",
        "classifier1 = linear_model.LogisticRegression()\n",
        "classifier1.fit(inputs, outputs)\n",
        "computedOutputs = classifier1.predict(inputs)\n",
        "error = 1 - accuracy_score(outputs, computedOutputs)\n",
        "print(\"classification training error: \", error)"
      ],
      "execution_count": 26,
      "outputs": [
        {
          "output_type": "stream",
          "text": [
            "classification training error:  0.30188679245283023\n"
          ],
          "name": "stdout"
        }
      ]
    },
    {
      "cell_type": "markdown",
      "metadata": {
        "id": "DzmVCtxHFZot"
      },
      "source": [
        "### Utilizarea unui model de predictie"
      ]
    },
    {
      "cell_type": "code",
      "metadata": {
        "id": "WHwQ9HeZ8YKi",
        "cellView": "form"
      },
      "source": [
        "#@title run the code below from preparing sone testing data\n",
        "\n",
        "# normal, pathological, normal\n",
        "testData = [[59.5, 280.5], [61, 3039.5], [60, 305]]"
      ],
      "execution_count": 27,
      "outputs": []
    },
    {
      "cell_type": "code",
      "metadata": {
        "cellView": "form",
        "colab": {
          "base_uri": "https://localhost:8080/",
          "height": 312
        },
        "id": "QIiKQQsKFs8X",
        "outputId": "da664ccd-8cca-45aa-8e13-6b7c6e98b6b8"
      },
      "source": [
        "#@title run the code below for predicting the tissue type for previous prepared data\n",
        "\n",
        "predictions = classifier1.predict(testData)\n",
        "print('computed labels: ', predictions)\n",
        "\n",
        "if (noFeatures == 2):\n",
        "    plotPredictions([216.5, 300, 291.5], [280.5, 3039.5, 305], ['normal', 'pathological', 'normal'], predictions, \"real test data\", featureNames, ['normal', 'pathological'])"
      ],
      "execution_count": 28,
      "outputs": [
        {
          "output_type": "stream",
          "text": [
            "computed labels:  ['normal' 'normal' 'normal']\n"
          ],
          "name": "stdout"
        },
        {
          "output_type": "display_data",
          "data": {
            "image/png": "[encoded data removed]",
            "text/plain": [
              "<Figure size 432x288 with 1 Axes>"
            ]
          },
          "metadata": {
            "tags": [],
            "needs_background": "light"
          }
        }
      ]
    },
    {
      "cell_type": "markdown",
      "metadata": {
        "id": "s-6blRrXGkSd"
      },
      "source": [
        "## Scenariul 2: predictia tipului de tesut (normal sau patologic) pe baza caracteristicilor I0 si Area\n",
        "\n",
        "\n",
        "Proces:\n",
        "- Se pleaca de la un set de date format din masuratorile bioelectrice asociate unor probe de tesut mamar  si etichetele asociate lor\n",
        "- se aleg anumite caracteristici dintre aceste masuratori (drept variabile independente) precum IO si Area\n",
        "- Se aplica algoritmul de invatare pe setul de antrenament\n",
        "- Se realizeaza predictii pentru noi mesaje (= se eticheteaza noi mesaje)"
      ]
    },
    {
      "cell_type": "code",
      "metadata": {
        "cellView": "form",
        "colab": {
          "base_uri": "https://localhost:8080/",
          "height": 203
        },
        "id": "lgOr6J-b7tEg",
        "outputId": "752b7b30-2386-4430-f5bf-ab22139228cb"
      },
      "source": [
        "#@title run the code below to inspect the raw data\n",
        "\n",
        "url = 'http://www.cs.ubbcluj.ro/~lauras/test/docs/docum/breastCancerBin.csv'\n",
        "r = requests.get(url)\n",
        "filePath = io.StringIO(r.text)\n",
        "\n",
        "dataCrt = pd.read_csv(filePath)\n",
        "dataCrt.head()"
      ],
      "execution_count": 29,
      "outputs": [
        {
          "output_type": "execute_result",
          "data": {
            "text/html": [
              "<div>\n",
              "<style scoped>\n",
              "    .dataframe tbody tr th:only-of-type {\n",
              "        vertical-align: middle;\n",
              "    }\n",
              "\n",
              "    .dataframe tbody tr th {\n",
              "        vertical-align: top;\n",
              "    }\n",
              "\n",
              "    .dataframe thead th {\n",
              "        text-align: right;\n",
              "    }\n",
              "</style>\n",
              "<table border=\"1\" class=\"dataframe\">\n",
              "  <thead>\n",
              "    <tr style=\"text-align: right;\">\n",
              "      <th></th>\n",
              "      <th>Case#</th>\n",
              "      <th>Class</th>\n",
              "      <th>I0</th>\n",
              "      <th>PA500</th>\n",
              "      <th>HFS</th>\n",
              "      <th>DA</th>\n",
              "      <th>Area</th>\n",
              "      <th>A/DA</th>\n",
              "      <th>MaxIP</th>\n",
              "      <th>DR</th>\n",
              "      <th>P</th>\n",
              "    </tr>\n",
              "  </thead>\n",
              "  <tbody>\n",
              "    <tr>\n",
              "      <th>0</th>\n",
              "      <td>1</td>\n",
              "      <td>pathological</td>\n",
              "      <td>524.794072</td>\n",
              "      <td>0.187448</td>\n",
              "      <td>0.032114</td>\n",
              "      <td>228.800228</td>\n",
              "      <td>6843.598481</td>\n",
              "      <td>29.910803</td>\n",
              "      <td>60.204880</td>\n",
              "      <td>220.737212</td>\n",
              "      <td>556.828334</td>\n",
              "    </tr>\n",
              "    <tr>\n",
              "      <th>1</th>\n",
              "      <td>2</td>\n",
              "      <td>pathological</td>\n",
              "      <td>330.000000</td>\n",
              "      <td>0.226893</td>\n",
              "      <td>0.265290</td>\n",
              "      <td>121.154201</td>\n",
              "      <td>3163.239472</td>\n",
              "      <td>26.109202</td>\n",
              "      <td>69.717361</td>\n",
              "      <td>99.084964</td>\n",
              "      <td>400.225776</td>\n",
              "    </tr>\n",
              "    <tr>\n",
              "      <th>2</th>\n",
              "      <td>3</td>\n",
              "      <td>pathological</td>\n",
              "      <td>551.879287</td>\n",
              "      <td>0.232478</td>\n",
              "      <td>0.063530</td>\n",
              "      <td>264.804935</td>\n",
              "      <td>11888.391830</td>\n",
              "      <td>44.894903</td>\n",
              "      <td>77.793297</td>\n",
              "      <td>253.785300</td>\n",
              "      <td>656.769449</td>\n",
              "    </tr>\n",
              "    <tr>\n",
              "      <th>3</th>\n",
              "      <td>4</td>\n",
              "      <td>pathological</td>\n",
              "      <td>380.000000</td>\n",
              "      <td>0.240855</td>\n",
              "      <td>0.286234</td>\n",
              "      <td>137.640111</td>\n",
              "      <td>5402.171180</td>\n",
              "      <td>39.248524</td>\n",
              "      <td>88.758446</td>\n",
              "      <td>105.198568</td>\n",
              "      <td>493.701813</td>\n",
              "    </tr>\n",
              "    <tr>\n",
              "      <th>4</th>\n",
              "      <td>5</td>\n",
              "      <td>pathological</td>\n",
              "      <td>362.831266</td>\n",
              "      <td>0.200713</td>\n",
              "      <td>0.244346</td>\n",
              "      <td>124.912559</td>\n",
              "      <td>3290.462446</td>\n",
              "      <td>26.342127</td>\n",
              "      <td>69.389389</td>\n",
              "      <td>103.866552</td>\n",
              "      <td>424.796503</td>\n",
              "    </tr>\n",
              "  </tbody>\n",
              "</table>\n",
              "</div>"
            ],
            "text/plain": [
              "   Case#         Class          I0  ...      MaxIP          DR           P\n",
              "0      1  pathological  524.794072  ...  60.204880  220.737212  556.828334\n",
              "1      2  pathological  330.000000  ...  69.717361   99.084964  400.225776\n",
              "2      3  pathological  551.879287  ...  77.793297  253.785300  656.769449\n",
              "3      4  pathological  380.000000  ...  88.758446  105.198568  493.701813\n",
              "4      5  pathological  362.831266  ...  69.389389  103.866552  424.796503\n",
              "\n",
              "[5 rows x 11 columns]"
            ]
          },
          "metadata": {
            "tags": []
          },
          "execution_count": 29
        }
      ]
    },
    {
      "cell_type": "markdown",
      "metadata": {
        "id": "AMkwlcrUHIws"
      },
      "source": [
        "### Specificarea problemei\n",
        "- stabilirea caracteristicilor (date de intrare) - I0 si Area\n",
        "- stabilirea valorilor care trebuie prezise (date de iesire) - Class"
      ]
    },
    {
      "cell_type": "code",
      "metadata": {
        "cellView": "form",
        "id": "k5nodxzz8yxO"
      },
      "source": [
        "#@title run the code below for setting the input data and the output data\n",
        "# second use case: predict the type of tissue (connective, adipose, glandular, carcinoma, fibro-adenoma, mastopathy) based on I0 and Area\n",
        "noFeatures = 2\n",
        "featureNames = ['I0', 'Area']\n",
        "outputName = 'Class'"
      ],
      "execution_count": 30,
      "outputs": []
    },
    {
      "cell_type": "markdown",
      "metadata": {
        "id": "A73Q-D_7HZVV"
      },
      "source": [
        "### Incarcarea si auditarea datelor"
      ]
    },
    {
      "cell_type": "code",
      "metadata": {
        "cellView": "form",
        "colab": {
          "base_uri": "https://localhost:8080/",
          "height": 543
        },
        "id": "a8E3oXxCHUzT",
        "outputId": "a6e5e2b5-a133-4551-da32-3a84cad1c120"
      },
      "source": [
        "#@title run the code below for loading and auditing the data\n",
        "\n",
        "url = 'http://www.cs.ubbcluj.ro/~lauras/test/docs/docum/breastCancerBin.csv'\n",
        "r = requests.get(url)\n",
        "filePath = io.StringIO(r.text)\n",
        "\n",
        "inputs, outputs = loadData(filePath, featureNames, outputName)\n",
        "inputs = fromStringToNumericData(inputs)\n",
        "\n",
        "# audit the data\n",
        "plotHistograms(inputs, outputs)\n",
        "if (noFeatures == 2):\n",
        "    plotClassificationData(inputs, outputs, featureNames)"
      ],
      "execution_count": 31,
      "outputs": [
        {
          "output_type": "display_data",
          "data": {
            "image/png": "[encoded data removed]",
            "text/plain": [
              "<Figure size 864x288 with 3 Axes>"
            ]
          },
          "metadata": {
            "tags": [],
            "needs_background": "light"
          }
        },
        {
          "output_type": "display_data",
          "data": {
            "image/png": "[encoded data removed]",
            "text/plain": [
              "<Figure size 432x288 with 1 Axes>"
            ]
          },
          "metadata": {
            "tags": [],
            "needs_background": "light"
          }
        }
      ]
    },
    {
      "cell_type": "markdown",
      "metadata": {
        "id": "Oce_ofGJHlfE"
      },
      "source": [
        "### Antrenarea unui model de predictie"
      ]
    },
    {
      "cell_type": "code",
      "metadata": {
        "cellView": "form",
        "colab": {
          "base_uri": "https://localhost:8080/"
        },
        "id": "G-pjPKFv8-WS",
        "outputId": "fb2733f1-12e4-4f66-8153-05e4aa99ca98"
      },
      "source": [
        "#@title run the code below for training the classifier; the training error will be printed\n",
        "\n",
        "classifier2 = linear_model.LogisticRegression()\n",
        "classifier2.fit(inputs, outputs)\n",
        "computedOutputs = classifier2.predict(inputs)\n",
        "error = 1 - accuracy_score(outputs, computedOutputs)\n",
        "print(\"classification training error: \", error)\n"
      ],
      "execution_count": 32,
      "outputs": [
        {
          "output_type": "stream",
          "text": [
            "classification training error:  0.15094339622641506\n"
          ],
          "name": "stdout"
        }
      ]
    },
    {
      "cell_type": "markdown",
      "metadata": {
        "id": "fi4cvlUVHw8I"
      },
      "source": [
        "### Utilizarea unui model de predictie"
      ]
    },
    {
      "cell_type": "code",
      "metadata": {
        "cellView": "form",
        "id": "fchpNidEH_lU"
      },
      "source": [
        "#@title run the code below from preparing sone testing data\n",
        "\n",
        "# realLabels= [normal, pathological, normal]\n",
        "testData = [[216.5, 280.5], [300, 3039.5], [291.5, 305]]\n",
        "\n"
      ],
      "execution_count": 33,
      "outputs": []
    },
    {
      "cell_type": "code",
      "metadata": {
        "cellView": "form",
        "colab": {
          "base_uri": "https://localhost:8080/",
          "height": 312
        },
        "id": "q4aBbNrSIMBs",
        "outputId": "af38325d-4853-4acb-8e68-b19729aa2580"
      },
      "source": [
        "#@title run the code below for predicting the tissue type for previous prepared data\n",
        "\n",
        "predictions = classifier2.predict(testData)\n",
        "print('computed labels: ', predictions)\n",
        "\n",
        "if (noFeatures == 2):\n",
        "    plotPredictions([216.5, 300, 291.5], [280.5, 3039.5, 305], ['normal', 'pathological', 'normal'], predictions, \"real test data\", featureNames, ['normal', 'pathological'])\n",
        "    "
      ],
      "execution_count": 34,
      "outputs": [
        {
          "output_type": "stream",
          "text": [
            "computed labels:  ['pathological' 'pathological' 'pathological']\n"
          ],
          "name": "stdout"
        },
        {
          "output_type": "display_data",
          "data": {
            "image/png": "[encoded data removed]",
            "text/plain": [
              "<Figure size 432x288 with 1 Axes>"
            ]
          },
          "metadata": {
            "tags": [],
            "needs_background": "light"
          }
        }
      ]
    },
    {
      "cell_type": "markdown",
      "metadata": {
        "id": "i-9ZpcS-Id7R"
      },
      "source": [
        "## Scenariul 3: predictia tipului de tesut (normal sau patologic, dar de 3 tipuri) pe baza caracteristicilor I0 si Area\n",
        "\n",
        "\n",
        "Proces:\n",
        "- Se pleaca de la un set de date format din masuratorile bioelectrice asociate unor probe de tesut mamar  si etichetele asociate lor\n",
        "- se aleg anumite caracteristici dintre aceste masuratori (drept variabile independente) precum IO si Area\n",
        "- Se aplica algoritmul de invatare pe setul de antrenament\n",
        "- Se realizeaza predictii pentru noi mesaje (= se eticheteaza noi mesaje)"
      ]
    },
    {
      "cell_type": "code",
      "metadata": {
        "colab": {
          "base_uri": "https://localhost:8080/",
          "height": 1000
        },
        "id": "56uVL6j071vG",
        "cellView": "form",
        "outputId": "85c7b333-3553-4842-8afe-6d2acef67414"
      },
      "source": [
        "#@title run the code below to inspect the raw data\n",
        "\n",
        "url = 'http://www.cs.ubbcluj.ro/~lauras/test/docs/docum/breastCancer4classes.csv'\n",
        "r = requests.get(url)\n",
        "filePath = io.StringIO(r.text)\n",
        "\n",
        "dataCrt = pd.read_csv(filePath)\n",
        "dataCrt[18:55]"
      ],
      "execution_count": 35,
      "outputs": [
        {
          "output_type": "execute_result",
          "data": {
            "text/html": [
              "<div>\n",
              "<style scoped>\n",
              "    .dataframe tbody tr th:only-of-type {\n",
              "        vertical-align: middle;\n",
              "    }\n",
              "\n",
              "    .dataframe tbody tr th {\n",
              "        vertical-align: top;\n",
              "    }\n",
              "\n",
              "    .dataframe thead th {\n",
              "        text-align: right;\n",
              "    }\n",
              "</style>\n",
              "<table border=\"1\" class=\"dataframe\">\n",
              "  <thead>\n",
              "    <tr style=\"text-align: right;\">\n",
              "      <th></th>\n",
              "      <th>Case#</th>\n",
              "      <th>Class</th>\n",
              "      <th>I0</th>\n",
              "      <th>PA500</th>\n",
              "      <th>HFS</th>\n",
              "      <th>DA</th>\n",
              "      <th>Area</th>\n",
              "      <th>A/DA</th>\n",
              "      <th>MaxIP</th>\n",
              "      <th>DR</th>\n",
              "      <th>P</th>\n",
              "    </tr>\n",
              "  </thead>\n",
              "  <tbody>\n",
              "    <tr>\n",
              "      <th>18</th>\n",
              "      <td>19</td>\n",
              "      <td>car</td>\n",
              "      <td>325.000000</td>\n",
              "      <td>0.224624</td>\n",
              "      <td>0.286932</td>\n",
              "      <td>229.215863</td>\n",
              "      <td>5705.332090</td>\n",
              "      <td>24.890651</td>\n",
              "      <td>35.602715</td>\n",
              "      <td>227.264794</td>\n",
              "      <td>462.703007</td>\n",
              "    </tr>\n",
              "    <tr>\n",
              "      <th>19</th>\n",
              "      <td>20</td>\n",
              "      <td>car</td>\n",
              "      <td>294.474846</td>\n",
              "      <td>0.206647</td>\n",
              "      <td>0.467748</td>\n",
              "      <td>194.871035</td>\n",
              "      <td>5541.256126</td>\n",
              "      <td>28.435504</td>\n",
              "      <td>36.765797</td>\n",
              "      <td>191.804890</td>\n",
              "      <td>445.513299</td>\n",
              "    </tr>\n",
              "    <tr>\n",
              "      <th>20</th>\n",
              "      <td>21</td>\n",
              "      <td>car</td>\n",
              "      <td>500.000000</td>\n",
              "      <td>0.192684</td>\n",
              "      <td>0.194779</td>\n",
              "      <td>144.688578</td>\n",
              "      <td>3055.012963</td>\n",
              "      <td>21.114403</td>\n",
              "      <td>96.563370</td>\n",
              "      <td>107.751103</td>\n",
              "      <td>542.897089</td>\n",
              "    </tr>\n",
              "    <tr>\n",
              "      <th>21</th>\n",
              "      <td>22</td>\n",
              "      <td>fad</td>\n",
              "      <td>211.000000</td>\n",
              "      <td>0.053931</td>\n",
              "      <td>0.094248</td>\n",
              "      <td>30.753443</td>\n",
              "      <td>151.984578</td>\n",
              "      <td>4.942034</td>\n",
              "      <td>14.268374</td>\n",
              "      <td>27.243124</td>\n",
              "      <td>217.130704</td>\n",
              "    </tr>\n",
              "    <tr>\n",
              "      <th>22</th>\n",
              "      <td>23</td>\n",
              "      <td>fad</td>\n",
              "      <td>196.856714</td>\n",
              "      <td>0.020071</td>\n",
              "      <td>0.090757</td>\n",
              "      <td>28.593126</td>\n",
              "      <td>82.058889</td>\n",
              "      <td>2.869882</td>\n",
              "      <td>7.968783</td>\n",
              "      <td>27.661516</td>\n",
              "      <td>200.749336</td>\n",
              "    </tr>\n",
              "    <tr>\n",
              "      <th>23</th>\n",
              "      <td>24</td>\n",
              "      <td>fad</td>\n",
              "      <td>245.000000</td>\n",
              "      <td>0.189019</td>\n",
              "      <td>0.081681</td>\n",
              "      <td>62.902955</td>\n",
              "      <td>1235.983356</td>\n",
              "      <td>19.649051</td>\n",
              "      <td>42.152016</td>\n",
              "      <td>46.690355</td>\n",
              "      <td>292.376238</td>\n",
              "    </tr>\n",
              "    <tr>\n",
              "      <th>24</th>\n",
              "      <td>25</td>\n",
              "      <td>fad</td>\n",
              "      <td>352.656447</td>\n",
              "      <td>0.121999</td>\n",
              "      <td>0.090757</td>\n",
              "      <td>68.527846</td>\n",
              "      <td>1066.157846</td>\n",
              "      <td>15.558024</td>\n",
              "      <td>43.691925</td>\n",
              "      <td>52.792817</td>\n",
              "      <td>382.733187</td>\n",
              "    </tr>\n",
              "    <tr>\n",
              "      <th>25</th>\n",
              "      <td>26</td>\n",
              "      <td>fad</td>\n",
              "      <td>243.293976</td>\n",
              "      <td>0.039968</td>\n",
              "      <td>0.067021</td>\n",
              "      <td>68.544778</td>\n",
              "      <td>383.928453</td>\n",
              "      <td>5.601134</td>\n",
              "      <td>9.991348</td>\n",
              "      <td>67.816656</td>\n",
              "      <td>263.640761</td>\n",
              "    </tr>\n",
              "    <tr>\n",
              "      <th>26</th>\n",
              "      <td>27</td>\n",
              "      <td>fad</td>\n",
              "      <td>259.885145</td>\n",
              "      <td>0.070686</td>\n",
              "      <td>0.006981</td>\n",
              "      <td>58.243807</td>\n",
              "      <td>465.087265</td>\n",
              "      <td>7.985180</td>\n",
              "      <td>17.506838</td>\n",
              "      <td>56.340241</td>\n",
              "      <td>267.517446</td>\n",
              "    </tr>\n",
              "    <tr>\n",
              "      <th>27</th>\n",
              "      <td>28</td>\n",
              "      <td>fad</td>\n",
              "      <td>250.000000</td>\n",
              "      <td>0.068068</td>\n",
              "      <td>-0.015359</td>\n",
              "      <td>57.172431</td>\n",
              "      <td>652.901349</td>\n",
              "      <td>11.419863</td>\n",
              "      <td>17.776981</td>\n",
              "      <td>55.791270</td>\n",
              "      <td>278.308615</td>\n",
              "    </tr>\n",
              "    <tr>\n",
              "      <th>28</th>\n",
              "      <td>29</td>\n",
              "      <td>fad</td>\n",
              "      <td>200.000000</td>\n",
              "      <td>0.037699</td>\n",
              "      <td>0.117286</td>\n",
              "      <td>42.316675</td>\n",
              "      <td>220.810907</td>\n",
              "      <td>5.218059</td>\n",
              "      <td>10.675764</td>\n",
              "      <td>40.947882</td>\n",
              "      <td>218.034313</td>\n",
              "    </tr>\n",
              "    <tr>\n",
              "      <th>29</th>\n",
              "      <td>30</td>\n",
              "      <td>fad</td>\n",
              "      <td>355.000000</td>\n",
              "      <td>0.064054</td>\n",
              "      <td>0.084474</td>\n",
              "      <td>89.558463</td>\n",
              "      <td>1033.854245</td>\n",
              "      <td>11.543903</td>\n",
              "      <td>27.562662</td>\n",
              "      <td>86.576561</td>\n",
              "      <td>372.039957</td>\n",
              "    </tr>\n",
              "    <tr>\n",
              "      <th>30</th>\n",
              "      <td>31</td>\n",
              "      <td>fad</td>\n",
              "      <td>272.000000</td>\n",
              "      <td>0.091455</td>\n",
              "      <td>0.004887</td>\n",
              "      <td>63.789380</td>\n",
              "      <td>718.946310</td>\n",
              "      <td>11.270627</td>\n",
              "      <td>20.085556</td>\n",
              "      <td>60.690729</td>\n",
              "      <td>286.920220</td>\n",
              "    </tr>\n",
              "    <tr>\n",
              "      <th>31</th>\n",
              "      <td>32</td>\n",
              "      <td>fad</td>\n",
              "      <td>341.620013</td>\n",
              "      <td>0.091979</td>\n",
              "      <td>0.074002</td>\n",
              "      <td>85.043029</td>\n",
              "      <td>1370.838068</td>\n",
              "      <td>16.119347</td>\n",
              "      <td>29.028969</td>\n",
              "      <td>79.935197</td>\n",
              "      <td>385.133460</td>\n",
              "    </tr>\n",
              "    <tr>\n",
              "      <th>32</th>\n",
              "      <td>33</td>\n",
              "      <td>fad</td>\n",
              "      <td>160.322452</td>\n",
              "      <td>0.176976</td>\n",
              "      <td>0.163363</td>\n",
              "      <td>37.217124</td>\n",
              "      <td>341.881462</td>\n",
              "      <td>9.186133</td>\n",
              "      <td>30.889164</td>\n",
              "      <td>20.759910</td>\n",
              "      <td>187.566518</td>\n",
              "    </tr>\n",
              "    <tr>\n",
              "      <th>33</th>\n",
              "      <td>34</td>\n",
              "      <td>fad</td>\n",
              "      <td>301.304399</td>\n",
              "      <td>0.109781</td>\n",
              "      <td>0.035605</td>\n",
              "      <td>64.616200</td>\n",
              "      <td>942.773191</td>\n",
              "      <td>14.590353</td>\n",
              "      <td>29.045677</td>\n",
              "      <td>57.720030</td>\n",
              "      <td>335.768459</td>\n",
              "    </tr>\n",
              "    <tr>\n",
              "      <th>34</th>\n",
              "      <td>35</td>\n",
              "      <td>fad</td>\n",
              "      <td>155.000000</td>\n",
              "      <td>0.172788</td>\n",
              "      <td>0.118682</td>\n",
              "      <td>38.940168</td>\n",
              "      <td>415.111601</td>\n",
              "      <td>10.660242</td>\n",
              "      <td>25.836502</td>\n",
              "      <td>29.134376</td>\n",
              "      <td>184.817041</td>\n",
              "    </tr>\n",
              "    <tr>\n",
              "      <th>35</th>\n",
              "      <td>36</td>\n",
              "      <td>fad</td>\n",
              "      <td>144.000000</td>\n",
              "      <td>0.120602</td>\n",
              "      <td>0.046077</td>\n",
              "      <td>19.647670</td>\n",
              "      <td>70.426239</td>\n",
              "      <td>3.584458</td>\n",
              "      <td>18.131014</td>\n",
              "      <td>7.569493</td>\n",
              "      <td>160.373770</td>\n",
              "    </tr>\n",
              "    <tr>\n",
              "      <th>36</th>\n",
              "      <td>37</td>\n",
              "      <td>mas</td>\n",
              "      <td>178.000000</td>\n",
              "      <td>0.170868</td>\n",
              "      <td>0.212930</td>\n",
              "      <td>41.542167</td>\n",
              "      <td>489.440520</td>\n",
              "      <td>11.781776</td>\n",
              "      <td>35.747795</td>\n",
              "      <td>21.162393</td>\n",
              "      <td>215.905934</td>\n",
              "    </tr>\n",
              "    <tr>\n",
              "      <th>37</th>\n",
              "      <td>38</td>\n",
              "      <td>mas</td>\n",
              "      <td>195.000000</td>\n",
              "      <td>0.139103</td>\n",
              "      <td>0.205251</td>\n",
              "      <td>37.462196</td>\n",
              "      <td>328.384052</td>\n",
              "      <td>8.765745</td>\n",
              "      <td>35.023827</td>\n",
              "      <td>13.294650</td>\n",
              "      <td>232.587628</td>\n",
              "    </tr>\n",
              "    <tr>\n",
              "      <th>38</th>\n",
              "      <td>39</td>\n",
              "      <td>mas</td>\n",
              "      <td>435.093167</td>\n",
              "      <td>0.076969</td>\n",
              "      <td>0.161268</td>\n",
              "      <td>123.597538</td>\n",
              "      <td>1342.277648</td>\n",
              "      <td>10.860068</td>\n",
              "      <td>37.384724</td>\n",
              "      <td>117.808038</td>\n",
              "      <td>433.202322</td>\n",
              "    </tr>\n",
              "    <tr>\n",
              "      <th>39</th>\n",
              "      <td>40</td>\n",
              "      <td>mas</td>\n",
              "      <td>250.000000</td>\n",
              "      <td>0.047124</td>\n",
              "      <td>0.013963</td>\n",
              "      <td>70.907040</td>\n",
              "      <td>224.145787</td>\n",
              "      <td>3.161122</td>\n",
              "      <td>9.102176</td>\n",
              "      <td>70.320400</td>\n",
              "      <td>232.277629</td>\n",
              "    </tr>\n",
              "    <tr>\n",
              "      <th>40</th>\n",
              "      <td>41</td>\n",
              "      <td>mas</td>\n",
              "      <td>339.508548</td>\n",
              "      <td>0.045379</td>\n",
              "      <td>0.030020</td>\n",
              "      <td>88.629809</td>\n",
              "      <td>331.080390</td>\n",
              "      <td>3.735542</td>\n",
              "      <td>19.825581</td>\n",
              "      <td>87.621180</td>\n",
              "      <td>307.793194</td>\n",
              "    </tr>\n",
              "    <tr>\n",
              "      <th>41</th>\n",
              "      <td>42</td>\n",
              "      <td>mas</td>\n",
              "      <td>236.000000</td>\n",
              "      <td>0.124617</td>\n",
              "      <td>0.201760</td>\n",
              "      <td>48.451130</td>\n",
              "      <td>236.880112</td>\n",
              "      <td>4.889052</td>\n",
              "      <td>36.006622</td>\n",
              "      <td>32.419670</td>\n",
              "      <td>244.965155</td>\n",
              "    </tr>\n",
              "    <tr>\n",
              "      <th>42</th>\n",
              "      <td>43</td>\n",
              "      <td>mas</td>\n",
              "      <td>481.467149</td>\n",
              "      <td>0.078540</td>\n",
              "      <td>0.016057</td>\n",
              "      <td>79.059162</td>\n",
              "      <td>1154.338239</td>\n",
              "      <td>14.600942</td>\n",
              "      <td>33.929131</td>\n",
              "      <td>71.408439</td>\n",
              "      <td>501.893358</td>\n",
              "    </tr>\n",
              "    <tr>\n",
              "      <th>43</th>\n",
              "      <td>44</td>\n",
              "      <td>mas</td>\n",
              "      <td>252.000000</td>\n",
              "      <td>0.106116</td>\n",
              "      <td>0.031416</td>\n",
              "      <td>38.544210</td>\n",
              "      <td>493.790423</td>\n",
              "      <td>12.811014</td>\n",
              "      <td>25.541145</td>\n",
              "      <td>28.867040</td>\n",
              "      <td>280.658299</td>\n",
              "    </tr>\n",
              "    <tr>\n",
              "      <th>44</th>\n",
              "      <td>45</td>\n",
              "      <td>mas</td>\n",
              "      <td>172.515797</td>\n",
              "      <td>0.127235</td>\n",
              "      <td>0.038397</td>\n",
              "      <td>37.543673</td>\n",
              "      <td>192.218148</td>\n",
              "      <td>5.119855</td>\n",
              "      <td>19.322081</td>\n",
              "      <td>32.189821</td>\n",
              "      <td>174.933770</td>\n",
              "    </tr>\n",
              "    <tr>\n",
              "      <th>45</th>\n",
              "      <td>46</td>\n",
              "      <td>mas</td>\n",
              "      <td>121.000000</td>\n",
              "      <td>0.174184</td>\n",
              "      <td>0.090757</td>\n",
              "      <td>24.437180</td>\n",
              "      <td>144.466513</td>\n",
              "      <td>5.911750</td>\n",
              "      <td>22.021080</td>\n",
              "      <td>10.594708</td>\n",
              "      <td>141.766185</td>\n",
              "    </tr>\n",
              "    <tr>\n",
              "      <th>46</th>\n",
              "      <td>47</td>\n",
              "      <td>mas</td>\n",
              "      <td>196.364864</td>\n",
              "      <td>0.182911</td>\n",
              "      <td>0.142419</td>\n",
              "      <td>54.583080</td>\n",
              "      <td>843.262528</td>\n",
              "      <td>15.449156</td>\n",
              "      <td>34.149414</td>\n",
              "      <td>42.580865</td>\n",
              "      <td>239.944073</td>\n",
              "    </tr>\n",
              "    <tr>\n",
              "      <th>47</th>\n",
              "      <td>48</td>\n",
              "      <td>mas</td>\n",
              "      <td>370.395725</td>\n",
              "      <td>0.104720</td>\n",
              "      <td>0.000000</td>\n",
              "      <td>115.923253</td>\n",
              "      <td>1308.120430</td>\n",
              "      <td>11.284366</td>\n",
              "      <td>31.367031</td>\n",
              "      <td>112.715102</td>\n",
              "      <td>365.977651</td>\n",
              "    </tr>\n",
              "    <tr>\n",
              "      <th>48</th>\n",
              "      <td>49</td>\n",
              "      <td>mas</td>\n",
              "      <td>260.277521</td>\n",
              "      <td>0.079063</td>\n",
              "      <td>0.032812</td>\n",
              "      <td>58.817611</td>\n",
              "      <td>277.259034</td>\n",
              "      <td>4.713878</td>\n",
              "      <td>17.868670</td>\n",
              "      <td>56.037684</td>\n",
              "      <td>248.623412</td>\n",
              "    </tr>\n",
              "    <tr>\n",
              "      <th>49</th>\n",
              "      <td>50</td>\n",
              "      <td>mas</td>\n",
              "      <td>544.654349</td>\n",
              "      <td>0.063705</td>\n",
              "      <td>0.002094</td>\n",
              "      <td>100.788080</td>\n",
              "      <td>1189.290233</td>\n",
              "      <td>11.799910</td>\n",
              "      <td>29.412222</td>\n",
              "      <td>96.580150</td>\n",
              "      <td>553.358210</td>\n",
              "    </tr>\n",
              "    <tr>\n",
              "      <th>50</th>\n",
              "      <td>51</td>\n",
              "      <td>mas</td>\n",
              "      <td>310.000000</td>\n",
              "      <td>0.174707</td>\n",
              "      <td>0.165457</td>\n",
              "      <td>98.509961</td>\n",
              "      <td>2741.032044</td>\n",
              "      <td>27.824923</td>\n",
              "      <td>49.327862</td>\n",
              "      <td>85.270010</td>\n",
              "      <td>388.977808</td>\n",
              "    </tr>\n",
              "    <tr>\n",
              "      <th>51</th>\n",
              "      <td>52</td>\n",
              "      <td>mas</td>\n",
              "      <td>274.993396</td>\n",
              "      <td>0.147131</td>\n",
              "      <td>0.137532</td>\n",
              "      <td>66.457943</td>\n",
              "      <td>1217.415651</td>\n",
              "      <td>18.318588</td>\n",
              "      <td>40.849678</td>\n",
              "      <td>52.421008</td>\n",
              "      <td>327.558639</td>\n",
              "    </tr>\n",
              "    <tr>\n",
              "      <th>52</th>\n",
              "      <td>53</td>\n",
              "      <td>mas</td>\n",
              "      <td>281.323263</td>\n",
              "      <td>0.232303</td>\n",
              "      <td>0.437729</td>\n",
              "      <td>157.884181</td>\n",
              "      <td>5305.123206</td>\n",
              "      <td>33.601360</td>\n",
              "      <td>46.384335</td>\n",
              "      <td>150.916892</td>\n",
              "      <td>398.895549</td>\n",
              "    </tr>\n",
              "    <tr>\n",
              "      <th>53</th>\n",
              "      <td>54</td>\n",
              "      <td>mas</td>\n",
              "      <td>327.000000</td>\n",
              "      <td>0.141023</td>\n",
              "      <td>0.084474</td>\n",
              "      <td>76.212868</td>\n",
              "      <td>1664.674076</td>\n",
              "      <td>21.842428</td>\n",
              "      <td>43.221691</td>\n",
              "      <td>62.771703</td>\n",
              "      <td>379.261839</td>\n",
              "    </tr>\n",
              "    <tr>\n",
              "      <th>54</th>\n",
              "      <td>55</td>\n",
              "      <td>normal</td>\n",
              "      <td>470.516420</td>\n",
              "      <td>0.127409</td>\n",
              "      <td>0.066323</td>\n",
              "      <td>150.224022</td>\n",
              "      <td>2657.910367</td>\n",
              "      <td>17.692978</td>\n",
              "      <td>47.560631</td>\n",
              "      <td>142.496468</td>\n",
              "      <td>491.472488</td>\n",
              "    </tr>\n",
              "  </tbody>\n",
              "</table>\n",
              "</div>"
            ],
            "text/plain": [
              "    Case#   Class          I0  ...      MaxIP          DR           P\n",
              "18     19     car  325.000000  ...  35.602715  227.264794  462.703007\n",
              "19     20     car  294.474846  ...  36.765797  191.804890  445.513299\n",
              "20     21     car  500.000000  ...  96.563370  107.751103  542.897089\n",
              "21     22     fad  211.000000  ...  14.268374   27.243124  217.130704\n",
              "22     23     fad  196.856714  ...   7.968783   27.661516  200.749336\n",
              "23     24     fad  245.000000  ...  42.152016   46.690355  292.376238\n",
              "24     25     fad  352.656447  ...  43.691925   52.792817  382.733187\n",
              "25     26     fad  243.293976  ...   9.991348   67.816656  263.640761\n",
              "26     27     fad  259.885145  ...  17.506838   56.340241  267.517446\n",
              "27     28     fad  250.000000  ...  17.776981   55.791270  278.308615\n",
              "28     29     fad  200.000000  ...  10.675764   40.947882  218.034313\n",
              "29     30     fad  355.000000  ...  27.562662   86.576561  372.039957\n",
              "30     31     fad  272.000000  ...  20.085556   60.690729  286.920220\n",
              "31     32     fad  341.620013  ...  29.028969   79.935197  385.133460\n",
              "32     33     fad  160.322452  ...  30.889164   20.759910  187.566518\n",
              "33     34     fad  301.304399  ...  29.045677   57.720030  335.768459\n",
              "34     35     fad  155.000000  ...  25.836502   29.134376  184.817041\n",
              "35     36     fad  144.000000  ...  18.131014    7.569493  160.373770\n",
              "36     37     mas  178.000000  ...  35.747795   21.162393  215.905934\n",
              "37     38     mas  195.000000  ...  35.023827   13.294650  232.587628\n",
              "38     39     mas  435.093167  ...  37.384724  117.808038  433.202322\n",
              "39     40     mas  250.000000  ...   9.102176   70.320400  232.277629\n",
              "40     41     mas  339.508548  ...  19.825581   87.621180  307.793194\n",
              "41     42     mas  236.000000  ...  36.006622   32.419670  244.965155\n",
              "42     43     mas  481.467149  ...  33.929131   71.408439  501.893358\n",
              "43     44     mas  252.000000  ...  25.541145   28.867040  280.658299\n",
              "44     45     mas  172.515797  ...  19.322081   32.189821  174.933770\n",
              "45     46     mas  121.000000  ...  22.021080   10.594708  141.766185\n",
              "46     47     mas  196.364864  ...  34.149414   42.580865  239.944073\n",
              "47     48     mas  370.395725  ...  31.367031  112.715102  365.977651\n",
              "48     49     mas  260.277521  ...  17.868670   56.037684  248.623412\n",
              "49     50     mas  544.654349  ...  29.412222   96.580150  553.358210\n",
              "50     51     mas  310.000000  ...  49.327862   85.270010  388.977808\n",
              "51     52     mas  274.993396  ...  40.849678   52.421008  327.558639\n",
              "52     53     mas  281.323263  ...  46.384335  150.916892  398.895549\n",
              "53     54     mas  327.000000  ...  43.221691   62.771703  379.261839\n",
              "54     55  normal  470.516420  ...  47.560631  142.496468  491.472488\n",
              "\n",
              "[37 rows x 11 columns]"
            ]
          },
          "metadata": {
            "tags": []
          },
          "execution_count": 35
        }
      ]
    },
    {
      "cell_type": "markdown",
      "metadata": {
        "id": "un_nu9CxJaiJ"
      },
      "source": [
        "### Specificarea problemei\n",
        "- stabilirea caracteristicilor (date de intrare) - I0 si Area\n",
        "- stabilirea valorilor care trebuie prezise (date de iesire) - Class (car(carcinoma), fad (fibro-adenoma), mas (mastopathy), normal)"
      ]
    },
    {
      "cell_type": "code",
      "metadata": {
        "cellView": "form",
        "colab": {
          "base_uri": "https://localhost:8080/"
        },
        "id": "pNhOuWNj8Q6_",
        "outputId": "09276db9-2fd7-4b98-d4ca-273eb645a67f"
      },
      "source": [
        "#@title run the code below to see the possible labels\n",
        "\n",
        "print(set(dataCrt['Class']))"
      ],
      "execution_count": 36,
      "outputs": [
        {
          "output_type": "stream",
          "text": [
            "{'fad', 'car', 'normal', 'mas'}\n"
          ],
          "name": "stdout"
        }
      ]
    },
    {
      "cell_type": "code",
      "metadata": {
        "cellView": "form",
        "id": "J9i4OanFJf20"
      },
      "source": [
        "#@title run the code below for setting the input data and the output data\n",
        "\n",
        "# third use case: predict the type of tissue (normal, carcinoma, fibro-adenoma, mastopathy) based on I0 and Area\n",
        "noFeatures = 2\n",
        "featureNames = ['I0', 'Area']\n",
        "outputName = 'Class'"
      ],
      "execution_count": 37,
      "outputs": []
    },
    {
      "cell_type": "markdown",
      "metadata": {
        "id": "X0sRIo4BJwml"
      },
      "source": [
        "### Incarcarea si auditarea datelor"
      ]
    },
    {
      "cell_type": "code",
      "metadata": {
        "cellView": "form",
        "id": "hVDpSRWEJwmn",
        "colab": {
          "base_uri": "https://localhost:8080/",
          "height": 279
        },
        "outputId": "09aa3fea-52c1-45bb-8118-08af191a426c"
      },
      "source": [
        "#@title run the code below for loading and auditing the data\n",
        "\n",
        "url = 'http://www.cs.ubbcluj.ro/~lauras/test/docs/docum/breastCancer4classes.csv'\n",
        "r = requests.get(url)\n",
        "filePath = io.StringIO(r.text)\n",
        "\n",
        "# second use case: predict the type of tissue (normal, carcinoma, fibro-adenoma, mastopathy) based on I0 and Area\n",
        "\n",
        "inputs, outputs = loadData(filePath, featureNames, outputName)\n",
        "inputs = fromStringToNumericData(inputs)\n",
        "\n",
        "# audit the data\n",
        "if (noFeatures == 2):\n",
        "    plotClassificationData(inputs, outputs, featureNames)"
      ],
      "execution_count": 38,
      "outputs": [
        {
          "output_type": "display_data",
          "data": {
            "image/png": "[encoded data removed]",
            "text/plain": [
              "<Figure size 432x288 with 1 Axes>"
            ]
          },
          "metadata": {
            "tags": [],
            "needs_background": "light"
          }
        }
      ]
    },
    {
      "cell_type": "code",
      "metadata": {
        "cellView": "form",
        "id": "ie7hOHhp-ALL",
        "colab": {
          "base_uri": "https://localhost:8080/",
          "height": 298
        },
        "outputId": "9364c673-ce10-4e0d-e118-ee9c7d8027cd"
      },
      "source": [
        "#@title run the code below for a better description of the data\n",
        "\n",
        "# Cate exemple sunt din fiecare clasa (normal, carcinoma, fibro-adenoma, mastopathy)?\n",
        "plotHistograms(inputs, outputs)\n",
        "print('no of exampels: ', len(inputs), ' distributed as follows: ', countExamples(outputs))"
      ],
      "execution_count": 39,
      "outputs": [
        {
          "output_type": "display_data",
          "data": {
            "image/png": "[encoded data removed]",
            "text/plain": [
              "<Figure size 864x288 with 3 Axes>"
            ]
          },
          "metadata": {
            "tags": [],
            "needs_background": "light"
          }
        },
        {
          "output_type": "stream",
          "text": [
            "no of exampels:  106  distributed as follows:  {'car': 21, 'fad': 15, 'mas': 18, 'normal': 52}\n"
          ],
          "name": "stdout"
        }
      ]
    },
    {
      "cell_type": "markdown",
      "metadata": {
        "id": "C5wp7E79Jwmn"
      },
      "source": [
        "### Antrenarea unui model de predictie"
      ]
    },
    {
      "cell_type": "code",
      "metadata": {
        "id": "l6Ug07dzJwmn",
        "colab": {
          "base_uri": "https://localhost:8080/"
        },
        "cellView": "form",
        "outputId": "8850aeb9-a189-45ff-c8b8-86df1529591b"
      },
      "source": [
        "#@title run the code below for training the classifier; the training error will be printed\n",
        "\n",
        "classifier3 = linear_model.LogisticRegression()\n",
        "classifier3.fit(inputs, outputs)\n",
        "computedOutputs = classifier3.predict(inputs)\n",
        "error = 1 - accuracy_score(outputs, computedOutputs)\n",
        "print(\"classification training error: \", error)\n"
      ],
      "execution_count": 40,
      "outputs": [
        {
          "output_type": "stream",
          "text": [
            "classification training error:  0.4339622641509434\n"
          ],
          "name": "stdout"
        }
      ]
    },
    {
      "cell_type": "markdown",
      "metadata": {
        "id": "Cupg-eW7Jwmo"
      },
      "source": [
        "### Utilizarea unui model de predictie"
      ]
    },
    {
      "cell_type": "code",
      "metadata": {
        "cellView": "form",
        "id": "apIsPme4Jwmo"
      },
      "source": [
        "#@title run the code below from preparing sone (artificial) testing data\n",
        "\n",
        "# realLabels= [normal, pathological, normal]\n",
        "testData = [[59.5, 280.5], [61, 3039.5], [60, 305]]"
      ],
      "execution_count": 41,
      "outputs": []
    },
    {
      "cell_type": "code",
      "metadata": {
        "cellView": "form",
        "id": "4n2qMPVjJwmo",
        "colab": {
          "base_uri": "https://localhost:8080/"
        },
        "outputId": "79f9c375-d28c-4b75-cdff-9ba783198fe0"
      },
      "source": [
        "#@title run the code below for predicting the tissue type for previous prepared data\n",
        "\n",
        "predictions = classifier3.predict(testData)\n",
        "print('computed labels: ', predictions)"
      ],
      "execution_count": 42,
      "outputs": [
        {
          "output_type": "stream",
          "text": [
            "computed labels:  ['mas' 'car' 'mas']\n"
          ],
          "name": "stdout"
        }
      ]
    },
    {
      "cell_type": "markdown",
      "metadata": {
        "id": "wTSShF3NL-X3"
      },
      "source": [
        "## Scenariul 4 - recunoasterea emotilor in imagini\n",
        "\n",
        "\n",
        "Proces:\n",
        "- Se pleaca de la un set de date format din imagini cu fete umane\n",
        "- Se extrag anumite caracteristici din aceste imagini\n",
        "- Se aplica algoritmul de invatare pe setul de antrenament\n",
        "- Se realizeaza predictii pentru noi imagini (= se eticheteaza noi fete cu emotiile corespunzatoare)"
      ]
    },
    {
      "cell_type": "markdown",
      "metadata": {
        "id": "CHQ0S9OuYf4M"
      },
      "source": [
        "### Specificarea problemei\n",
        "\n",
        "- date de intrare: imagini cu fete\n",
        "- date de iesire: emotiile asociate fetelor"
      ]
    },
    {
      "cell_type": "code",
      "metadata": {
        "cellView": "form",
        "id": "JVyTLA4vgiDB"
      },
      "source": [
        "#@title run the code below for setting the prerequisites \n",
        "\n",
        "import pandas as pd\n",
        "import numpy as np\n",
        "import os\n",
        "import matplotlib.pyplot as plt\n",
        "import requests\n",
        "import io\n",
        "\n",
        "from sklearn.metrics import confusion_matrix\n",
        "from mlxtend.plotting import plot_confusion_matrix\n",
        "\n",
        "from keras import models\n",
        "from keras.layers import Dense, Dropout, Flatten, Conv2D, MaxPool2D\n",
        "from keras.optimizers import RMSprop,Adam\n",
        "from keras.utils import to_categorical\n",
        "\n",
        "\n",
        "def prepare_data(data):\n",
        "    \"\"\" Prepare data for modeling \n",
        "        input: data frame with labels und pixel data\n",
        "        output: image and label array \"\"\"\n",
        "    \n",
        "    image_array = np.zeros(shape=(len(data), 48, 48))\n",
        "    image_label = np.array(list(map(int, data['emotion'])))\n",
        "    \n",
        "    for i, row in enumerate(data.index):\n",
        "        image = np.fromstring(data.loc[row, ' pixels'], dtype=int, sep=' ')\n",
        "        image = np.reshape(image, (48, 48))\n",
        "        image_array[i] = image\n",
        "        \n",
        "    return image_array, image_label\n",
        "\n",
        "def plot_examples(label=0):\n",
        "    fig, axs = plt.subplots(1, 5, figsize=(25, 12))\n",
        "    fig.subplots_adjust(hspace = .2, wspace=.2)\n",
        "    axs = axs.ravel()\n",
        "    for i in range(5):\n",
        "        idx = data[data['emotion']==label].index[i]\n",
        "        axs[i].imshow(train_images[idx][:,:,0], cmap='gray')\n",
        "        axs[i].set_title(emotions[train_labels[idx].argmax()])\n",
        "        axs[i].set_xticklabels([])\n",
        "        axs[i].set_yticklabels([])\n",
        "        \n",
        "def plot_all_emotions():\n",
        "    fig, axs = plt.subplots(1, 7, figsize=(30, 12))\n",
        "    fig.subplots_adjust(hspace = .2, wspace=.2)\n",
        "    axs = axs.ravel()\n",
        "    for i in range(7):\n",
        "        idx = data[data['emotion']==i].index[i]\n",
        "        axs[i].imshow(train_images[idx][:,:,0], cmap='gray')\n",
        "        axs[i].set_title(emotions[train_labels[idx].argmax()])\n",
        "        axs[i].set_xticklabels([])\n",
        "        axs[i].set_yticklabels([])\n",
        "        \n",
        "def plot_image_and_emotion(test_image_array, test_image_label, pred_test_labels, image_number):\n",
        "    \"\"\" Function to plot the image and compare the prediction results with the label \"\"\"\n",
        "    \n",
        "    fig, axs = plt.subplots(1, 2, figsize=(12, 6), sharey=False)\n",
        "    \n",
        "    bar_label = emotions.values()\n",
        "    \n",
        "    axs[0].imshow(test_image_array[image_number], 'gray')\n",
        "    axs[0].set_title(emotions[test_image_label[image_number]])\n",
        "    \n",
        "    axs[1].bar(bar_label, pred_test_labels[image_number], color='orange', alpha=0.7)\n",
        "    axs[1].grid()\n",
        "    \n",
        "    plt.show()\n",
        "    \n",
        "def plot_compare_distributions(array1, array2, title1='', title2=''):\n",
        "    df_array1 = pd.DataFrame()\n",
        "    df_array2 = pd.DataFrame()\n",
        "    df_array1['emotion'] = array1.argmax(axis=1)\n",
        "    df_array2['emotion'] = array2.argmax(axis=1)\n",
        "    \n",
        "    fig, axs = plt.subplots(1, 2, figsize=(12, 6), sharey=False)\n",
        "    x = emotions.values()\n",
        "    \n",
        "    y = df_array1['emotion'].value_counts()\n",
        "    keys_missed = list(set(emotions.keys()).difference(set(y.keys())))\n",
        "    for key_missed in keys_missed:\n",
        "        y[key_missed] = 0\n",
        "    axs[0].bar(x, y.sort_index(), color='orange')\n",
        "    axs[0].set_title(title1)\n",
        "    axs[0].grid()\n",
        "    \n",
        "    y = df_array2['emotion'].value_counts()\n",
        "    keys_missed = list(set(emotions.keys()).difference(set(y.keys())))\n",
        "    for key_missed in keys_missed:\n",
        "        y[key_missed] = 0\n",
        "    axs[1].bar(x, y.sort_index())\n",
        "    axs[1].set_title(title2)\n",
        "    axs[1].grid()\n",
        "    \n",
        "    plt.show()"
      ],
      "execution_count": 43,
      "outputs": []
    },
    {
      "cell_type": "markdown",
      "metadata": {
        "id": "55lez3tFgS8C"
      },
      "source": [
        "### Incarcarea si auditarea datelor"
      ]
    },
    {
      "cell_type": "code",
      "metadata": {
        "id": "x2qUtzOGgUC2",
        "colab": {
          "base_uri": "https://localhost:8080/",
          "height": 203
        },
        "cellView": "form",
        "outputId": "97c8f65c-444d-478d-cc9b-d8db7cd5944c"
      },
      "source": [
        "#@title run the code below for loading and auditing the data (please be patinet during the laoding)\n",
        "\n",
        "url = 'http://www.cs.ubbcluj.ro/~lauras/test/docs/docum/icml_face_data.csv'\n",
        "r = requests.get(url)\n",
        "filePath = io.StringIO(r.text)\n",
        "\n",
        "data = pd.read_csv(filePath)\n",
        "data.head()\n"
      ],
      "execution_count": 44,
      "outputs": [
        {
          "output_type": "execute_result",
          "data": {
            "text/html": [
              "<div>\n",
              "<style scoped>\n",
              "    .dataframe tbody tr th:only-of-type {\n",
              "        vertical-align: middle;\n",
              "    }\n",
              "\n",
              "    .dataframe tbody tr th {\n",
              "        vertical-align: top;\n",
              "    }\n",
              "\n",
              "    .dataframe thead th {\n",
              "        text-align: right;\n",
              "    }\n",
              "</style>\n",
              "<table border=\"1\" class=\"dataframe\">\n",
              "  <thead>\n",
              "    <tr style=\"text-align: right;\">\n",
              "      <th></th>\n",
              "      <th>emotion</th>\n",
              "      <th>Usage</th>\n",
              "      <th>pixels</th>\n",
              "    </tr>\n",
              "  </thead>\n",
              "  <tbody>\n",
              "    <tr>\n",
              "      <th>0</th>\n",
              "      <td>0</td>\n",
              "      <td>Training</td>\n",
              "      <td>70 80 82 72 58 58 60 63 54 58 60 48 89 115 121...</td>\n",
              "    </tr>\n",
              "    <tr>\n",
              "      <th>1</th>\n",
              "      <td>0</td>\n",
              "      <td>Training</td>\n",
              "      <td>151 150 147 155 148 133 111 140 170 174 182 15...</td>\n",
              "    </tr>\n",
              "    <tr>\n",
              "      <th>2</th>\n",
              "      <td>2</td>\n",
              "      <td>Training</td>\n",
              "      <td>231 212 156 164 174 138 161 173 182 200 106 38...</td>\n",
              "    </tr>\n",
              "    <tr>\n",
              "      <th>3</th>\n",
              "      <td>4</td>\n",
              "      <td>Training</td>\n",
              "      <td>24 32 36 30 32 23 19 20 30 41 21 22 32 34 21 1...</td>\n",
              "    </tr>\n",
              "    <tr>\n",
              "      <th>4</th>\n",
              "      <td>6</td>\n",
              "      <td>Training</td>\n",
              "      <td>4 0 0 0 0 0 0 0 0 0 0 0 3 15 23 28 48 50 58 84...</td>\n",
              "    </tr>\n",
              "  </tbody>\n",
              "</table>\n",
              "</div>"
            ],
            "text/plain": [
              "   emotion     Usage                                             pixels\n",
              "0        0  Training  70 80 82 72 58 58 60 63 54 58 60 48 89 115 121...\n",
              "1        0  Training  151 150 147 155 148 133 111 140 170 174 182 15...\n",
              "2        2  Training  231 212 156 164 174 138 161 173 182 200 106 38...\n",
              "3        4  Training  24 32 36 30 32 23 19 20 30 41 21 22 32 34 21 1...\n",
              "4        6  Training  4 0 0 0 0 0 0 0 0 0 0 0 3 15 23 28 48 50 58 84..."
            ]
          },
          "metadata": {
            "tags": []
          },
          "execution_count": 44
        }
      ]
    },
    {
      "cell_type": "markdown",
      "metadata": {
        "id": "Wt8BAFMCZqM4"
      },
      "source": [
        "- descrierea datelor"
      ]
    },
    {
      "cell_type": "code",
      "metadata": {
        "id": "JaY9LAw4h7IJ",
        "colab": {
          "base_uri": "https://localhost:8080/"
        },
        "cellView": "form",
        "outputId": "54cfda4e-80b7-4fe4-ad94-7539f13919dc"
      },
      "source": [
        "#@title run the code bellow for a short data description \n",
        "emotions = {0: 'Angry', 1: 'Disgust', 2: 'Fear', 3: 'Happy', 4: 'Sad', 5: 'Surprise', 6: 'Neutral'}\n",
        "\n",
        "data[' Usage'].value_counts()\n",
        "\n",
        "\n"
      ],
      "execution_count": 45,
      "outputs": [
        {
          "output_type": "execute_result",
          "data": {
            "text/plain": [
              "Training       28709\n",
              "PublicTest      3589\n",
              "PrivateTest     3589\n",
              "Name:  Usage, dtype: int64"
            ]
          },
          "metadata": {
            "tags": []
          },
          "execution_count": 45
        }
      ]
    },
    {
      "cell_type": "markdown",
      "metadata": {
        "id": "xI6BC3oIaK-I"
      },
      "source": [
        "- pregatirea datelor pentru invatare"
      ]
    },
    {
      "cell_type": "code",
      "metadata": {
        "cellView": "form",
        "id": "E8JNLmYSmoVi"
      },
      "source": [
        "#@title run the code bellow for data preparation\n",
        "\n",
        "# Define training, validation and test data:\n",
        "train_image_array, train_image_label = prepare_data(data[data[' Usage']=='Training'])\n",
        "val_image_array, val_image_label = prepare_data(data[data[' Usage']=='PrivateTest'])\n",
        "test_image_array, test_image_label = prepare_data(data[data[' Usage']=='PublicTest'])\n",
        "\n",
        "#reshape the images\n",
        "train_images = train_image_array.reshape((train_image_array.shape[0], 48, 48, 1))\n",
        "train_images = train_images.astype('float32')/255\n",
        "val_images = val_image_array.reshape((val_image_array.shape[0], 48, 48, 1))\n",
        "val_images = val_images.astype('float32')/255\n",
        "test_images = test_image_array.reshape((test_image_array.shape[0], 48, 48, 1))\n",
        "test_images = test_images.astype('float32')/255\n",
        "\n",
        "# encoding target values\n",
        "train_labels = to_categorical(train_image_label)\n",
        "val_labels = to_categorical(val_image_label)\n",
        "test_labels = to_categorical(test_image_label)\n"
      ],
      "execution_count": 46,
      "outputs": []
    },
    {
      "cell_type": "markdown",
      "metadata": {
        "id": "rJHWbTE5miB3"
      },
      "source": [
        "- cateva exemple"
      ]
    },
    {
      "cell_type": "code",
      "metadata": {
        "cellView": "form",
        "id": "Zw0wFfVjmjoo",
        "colab": {
          "base_uri": "https://localhost:8080/",
          "height": 246
        },
        "outputId": "0dbf0290-2317-49e8-b2f3-92671c198328"
      },
      "source": [
        "#@title run the code bellow for plotting some faces \n",
        "\n",
        "plot_all_emotions()"
      ],
      "execution_count": 47,
      "outputs": [
        {
          "output_type": "display_data",
          "data": {
            "image/png": "[encoded data removed]",
            "text/plain": [
              "<Figure size 2160x864 with 7 Axes>"
            ]
          },
          "metadata": {
            "tags": [],
            "needs_background": "light"
          }
        }
      ]
    },
    {
      "cell_type": "markdown",
      "metadata": {
        "id": "45S5Rjr6m-Pc"
      },
      "source": [
        "- distributia datelor (pe setul de antrenare si validare)"
      ]
    },
    {
      "cell_type": "code",
      "metadata": {
        "cellView": "form",
        "id": "j-VCeQlIm9Jc",
        "colab": {
          "base_uri": "https://localhost:8080/",
          "height": 390
        },
        "outputId": "37ca7a0b-f916-47d1-880b-4c685e97036b"
      },
      "source": [
        "#@title run the code bellow for plotting the data distribution\n",
        "\n",
        "plot_compare_distributions(train_labels, val_labels, title1='train labels', title2='val labels')"
      ],
      "execution_count": 48,
      "outputs": [
        {
          "output_type": "display_data",
          "data": {
            "image/png": "[encoded data removed]",
            "text/plain": [
              "<Figure size 864x432 with 2 Axes>"
            ]
          },
          "metadata": {
            "tags": [],
            "needs_background": "light"
          }
        }
      ]
    },
    {
      "cell_type": "markdown",
      "metadata": {
        "id": "BW8Dz-nPb5Sc"
      },
      "source": [
        "### Antrenarea unui model de predictie"
      ]
    },
    {
      "cell_type": "markdown",
      "metadata": {
        "id": "xCl5ZMHabu2c"
      },
      "source": [
        "- pregatirea algoritmului pentru antrenare"
      ]
    },
    {
      "cell_type": "code",
      "metadata": {
        "cellView": "form",
        "id": "fkS0roo2nJOI",
        "colab": {
          "base_uri": "https://localhost:8080/"
        },
        "outputId": "12a6cce5-680b-4b89-faf8-cb1aa644795a"
      },
      "source": [
        "#@title run the code bellow for preparing the ML algorithm\n",
        "\n",
        "class_weight = dict(zip(range(0, 7), (((data[data[' Usage']=='Training']['emotion'].value_counts()).sort_index())/len(data[data[' Usage']=='Training']['emotion'])).tolist()))\n",
        "\n",
        "model = models.Sequential()\n",
        "model.add(Conv2D(32, (3, 3), activation='relu', input_shape=(48, 48, 1)))\n",
        "model.add(MaxPool2D((2, 2)))\n",
        "model.add(Conv2D(64, (3, 3), activation='relu'))\n",
        "model.add(MaxPool2D((2, 2)))\n",
        "model.add(Conv2D(64, (3, 3), activation='relu'))\n",
        "model.add(Flatten())\n",
        "model.add(Dense(64, activation='relu'))\n",
        "model.add(Dense(7, activation='softmax'))\n",
        "model.compile(optimizer=Adam(lr=1e-3), loss='categorical_crossentropy', metrics=['accuracy'])\n",
        "model.summary()"
      ],
      "execution_count": 49,
      "outputs": [
        {
          "output_type": "stream",
          "text": [
            "Model: \"sequential\"\n",
            "_________________________________________________________________\n",
            "Layer (type)                 Output Shape              Param #   \n",
            "=================================================================\n",
            "conv2d (Conv2D)              (None, 46, 46, 32)        320       \n",
            "_________________________________________________________________\n",
            "max_pooling2d (MaxPooling2D) (None, 23, 23, 32)        0         \n",
            "_________________________________________________________________\n",
            "conv2d_1 (Conv2D)            (None, 21, 21, 64)        18496     \n",
            "_________________________________________________________________\n",
            "max_pooling2d_1 (MaxPooling2 (None, 10, 10, 64)        0         \n",
            "_________________________________________________________________\n",
            "conv2d_2 (Conv2D)            (None, 8, 8, 64)          36928     \n",
            "_________________________________________________________________\n",
            "flatten (Flatten)            (None, 4096)              0         \n",
            "_________________________________________________________________\n",
            "dense (Dense)                (None, 64)                262208    \n",
            "_________________________________________________________________\n",
            "dense_1 (Dense)              (None, 7)                 455       \n",
            "=================================================================\n",
            "Total params: 318,407\n",
            "Trainable params: 318,407\n",
            "Non-trainable params: 0\n",
            "_________________________________________________________________\n"
          ],
          "name": "stdout"
        }
      ]
    },
    {
      "cell_type": "markdown",
      "metadata": {
        "id": "W4ismmSObypd"
      },
      "source": [
        "- antrenarea algoritmului"
      ]
    },
    {
      "cell_type": "code",
      "metadata": {
        "cellView": "form",
        "id": "NixElZ1UnMVP",
        "colab": {
          "base_uri": "https://localhost:8080/"
        },
        "outputId": "6cff7a0f-869f-4b31-c8c1-abb9b2c64ab0"
      },
      "source": [
        "#@title run the code bellow for traing (please be patient!!!)\n",
        "history = model.fit(train_images, train_labels,\n",
        "                    validation_data=(val_images, val_labels),\n",
        "                    class_weight = class_weight,\n",
        "                    epochs=12,\n",
        "                    batch_size=64)"
      ],
      "execution_count": 50,
      "outputs": [
        {
          "output_type": "stream",
          "text": [
            "Epoch 1/12\n",
            "449/449 [==============================] - 74s 163ms/step - loss: 0.2836 - accuracy: 0.2717 - val_loss: 1.5434 - val_accuracy: 0.4182\n",
            "Epoch 2/12\n",
            "449/449 [==============================] - 73s 164ms/step - loss: 0.2304 - accuracy: 0.4285 - val_loss: 1.4559 - val_accuracy: 0.4494\n",
            "Epoch 3/12\n",
            "449/449 [==============================] - 75s 166ms/step - loss: 0.2082 - accuracy: 0.4846 - val_loss: 1.3879 - val_accuracy: 0.4778\n",
            "Epoch 4/12\n",
            "449/449 [==============================] - 74s 165ms/step - loss: 0.1948 - accuracy: 0.5108 - val_loss: 1.2988 - val_accuracy: 0.5079\n",
            "Epoch 5/12\n",
            "449/449 [==============================] - 74s 164ms/step - loss: 0.1832 - accuracy: 0.5489 - val_loss: 1.2650 - val_accuracy: 0.5261\n",
            "Epoch 6/12\n",
            "449/449 [==============================] - 74s 164ms/step - loss: 0.1721 - accuracy: 0.5758 - val_loss: 1.2842 - val_accuracy: 0.5177\n",
            "Epoch 7/12\n",
            "449/449 [==============================] - 73s 163ms/step - loss: 0.1621 - accuracy: 0.5972 - val_loss: 1.2781 - val_accuracy: 0.5294\n",
            "Epoch 8/12\n",
            "449/449 [==============================] - 73s 164ms/step - loss: 0.1541 - accuracy: 0.6200 - val_loss: 1.3334 - val_accuracy: 0.5274\n",
            "Epoch 9/12\n",
            "449/449 [==============================] - 74s 164ms/step - loss: 0.1436 - accuracy: 0.6482 - val_loss: 1.2564 - val_accuracy: 0.5352\n",
            "Epoch 10/12\n",
            "449/449 [==============================] - 74s 165ms/step - loss: 0.1369 - accuracy: 0.6632 - val_loss: 1.3029 - val_accuracy: 0.5492\n",
            "Epoch 11/12\n",
            "449/449 [==============================] - 73s 164ms/step - loss: 0.1281 - accuracy: 0.6860 - val_loss: 1.3076 - val_accuracy: 0.5483\n",
            "Epoch 12/12\n",
            "449/449 [==============================] - 73s 163ms/step - loss: 0.1185 - accuracy: 0.7162 - val_loss: 1.3524 - val_accuracy: 0.5453\n"
          ],
          "name": "stdout"
        }
      ]
    },
    {
      "cell_type": "markdown",
      "metadata": {
        "id": "FQqcesF-cOet"
      },
      "source": [
        "### Utilizarea modelului de predictie pentru a eticheta alte imagini"
      ]
    },
    {
      "cell_type": "code",
      "metadata": {
        "cellView": "form",
        "id": "Si-uXx5bnQ-i",
        "colab": {
          "base_uri": "https://localhost:8080/"
        },
        "outputId": "3275f47b-377e-4bf7-8fbb-8ebeb674e39d"
      },
      "source": [
        "#@title run the code bellow for predicting the emotions of new faces/images\n",
        "\n",
        "pred_test_labels = model.predict(test_images)\n",
        "\n",
        "test_loss, test_acc = model.evaluate(test_images, test_labels)\n",
        "print('test caccuracy:', test_acc)"
      ],
      "execution_count": 51,
      "outputs": [
        {
          "output_type": "stream",
          "text": [
            "113/113 [==============================] - 3s 23ms/step - loss: 1.3634 - accuracy: 0.5436\n",
            "test caccuracy: 0.5436054468154907\n"
          ],
          "name": "stdout"
        }
      ]
    },
    {
      "cell_type": "code",
      "metadata": {
        "id": "SbsUCdOznfJA",
        "colab": {
          "base_uri": "https://localhost:8080/",
          "height": 379
        },
        "cellView": "form",
        "outputId": "7e7c876b-867b-47f7-d98d-b6c38182ff67"
      },
      "source": [
        "#@title run the code below to see one of the the predictions\n",
        "\n",
        "plot_image_and_emotion(test_image_array, test_image_label, pred_test_labels, 106)"
      ],
      "execution_count": 52,
      "outputs": [
        {
          "output_type": "display_data",
          "data": {
            "image/png": "[encoded data removed]",
            "text/plain": [
              "<Figure size 864x432 with 2 Axes>"
            ]
          },
          "metadata": {
            "tags": [],
            "needs_background": "light"
          }
        }
      ]
    },
    {
      "cell_type": "code",
      "metadata": {
        "cellView": "form",
        "id": "6JEOyWkinjMc",
        "colab": {
          "base_uri": "https://localhost:8080/",
          "height": 379
        },
        "outputId": "eefd0383-0110-4b5d-8f71-c1f6c620d177"
      },
      "source": [
        "#@title run the code below to see another one of the the predictions\n",
        "\n",
        "plot_image_and_emotion(test_image_array, test_image_label, pred_test_labels, 40)"
      ],
      "execution_count": 53,
      "outputs": [
        {
          "output_type": "display_data",
          "data": {
            "image/png": "[encoded data removed]",
            "text/plain": [
              "<Figure size 864x432 with 2 Axes>"
            ]
          },
          "metadata": {
            "tags": [],
            "needs_background": "light"
          }
        }
      ]
    },
    {
      "cell_type": "code",
      "metadata": {
        "cellView": "form",
        "id": "ZX_xQ0tlnmgA",
        "colab": {
          "base_uri": "https://localhost:8080/",
          "height": 390
        },
        "outputId": "a02c42ba-d556-4aa3-c943-f2591d21f429"
      },
      "source": [
        "#@title run the code below to compare the true emotions by the predicted emotions\n",
        "\n",
        "plot_compare_distributions(test_labels, pred_test_labels, title1='test labels', title2='predict labels')"
      ],
      "execution_count": 54,
      "outputs": [
        {
          "output_type": "display_data",
          "data": {
            "image/png": "[encoded data removed]",
            "text/plain": [
              "<Figure size 864x432 with 2 Axes>"
            ]
          },
          "metadata": {
            "tags": [],
            "needs_background": "light"
          }
        }
      ]
    },
    {
      "cell_type": "markdown",
      "metadata": {
        "id": "qJlam6n7d8V0"
      },
      "source": [
        "## Scenariul 5 Separarea emailurilor in doua categorii (spam si ham)\n",
        "\n",
        "Grupare mesaje - se doreste clasificarea unor mesaje in doua categorii (spam si ham). Pentru fiecare mesaj se cunoaste textul aferent lui.\n",
        "\n",
        "Proces:\n",
        "- Se pleaca de la un set de date format din textul mesajelor precum cel din fisierul spam.csv\n",
        "- Se extrag anumite caracteristici din textul mesajelor folosind diferite reprezentari precum: Bag of Words, TF-IDF sau Word2Vec\n",
        "- Se aplica algoritmul de invatare pe setul de antrenament\n",
        "- Se realizeaza predictii pentru noi mesaje (= se eticheteaza noi mesaje)\n"
      ]
    },
    {
      "cell_type": "markdown",
      "metadata": {
        "id": "LWg3Lm8Al9uK"
      },
      "source": [
        "### Specificarea problemei\n",
        "\n",
        "- date de intrare: mesaje (emailuri in format text)\n",
        "- date de iesire: tipul mesajelor (spam sau ham)"
      ]
    },
    {
      "cell_type": "markdown",
      "metadata": {
        "id": "WMalmINHl9uQ"
      },
      "source": [
        "### Incarcarea si auditarea datelor"
      ]
    },
    {
      "cell_type": "code",
      "metadata": {
        "cellView": "form",
        "id": "O_MXcbpJl9uQ"
      },
      "source": [
        "#@title run the code below for loading and auditing the data (please be patinet during the laoding)\n",
        "\n",
        "url = 'http://www.cs.ubbcluj.ro/~lauras/test/docs/docum/spam.csv'\n",
        "r = requests.get(url)\n",
        "filePath = io.StringIO(r.text)\n",
        "\n",
        "data = []\n",
        "csv_reader = csv.reader(filePath, delimiter=',')\n",
        "line_count = 0\n",
        "for row in csv_reader:\n",
        "    if line_count == 0:\n",
        "        dataNames = row\n",
        "    else:\n",
        "        data.append(row)\n",
        "    line_count += 1\n",
        "\n",
        "inputs = [data[i][0] for i in range(len(data))]\n",
        "outputs = [data[i][1] for i in range(len(data))]\n",
        "labelNames = list(set(outputs))\n"
      ],
      "execution_count": 61,
      "outputs": []
    },
    {
      "cell_type": "markdown",
      "metadata": {
        "id": "mOC07NDtl9uT"
      },
      "source": [
        "- cateva exemple"
      ]
    },
    {
      "cell_type": "code",
      "metadata": {
        "cellView": "form",
        "id": "B8yZFTFJl9uU",
        "colab": {
          "base_uri": "https://localhost:8080/"
        },
        "outputId": "322ff011-c4b3-415d-b7b4-e963620faec6"
      },
      "source": [
        "#@title run the code bellow to see some examples\n",
        "\n",
        "print('Message: [', inputs[0], '] is a', labelNames[0])\n",
        "print('Message: [', inputs[1], '] is a', labelNames[1])"
      ],
      "execution_count": 62,
      "outputs": [
        {
          "output_type": "stream",
          "text": [
            "Message: [ Go until jurong point, crazy.. Available only in bugis n great world la e buffet... Cine there got amore wat... ] is a ham\n",
            "Message: [ Ok lar... Joking wif u oni... ] is a spam\n"
          ],
          "name": "stdout"
        }
      ]
    },
    {
      "cell_type": "code",
      "metadata": {
        "id": "gLBXIcwLnEr_",
        "cellView": "form"
      },
      "source": [
        "#@title run the code bellow for preparing data for training \n",
        "\n",
        "import numpy as np\n",
        "\n",
        "np.random.seed(5)\n",
        "# noSamples = inputs.shape[0]\n",
        "noSamples = len(inputs)\n",
        "indexes = [i for i in range(noSamples)]\n",
        "trainSample = np.random.choice(indexes, int(0.8 * noSamples), replace = False)\n",
        "testSample = [i for i in indexes  if not i in trainSample]\n",
        "\n",
        "trainInputs = [inputs[i] for i in trainSample]\n",
        "trainOutputs = [outputs[i] for i in trainSample]\n",
        "testInputs = [inputs[i] for i in testSample]\n",
        "testOutputs = [outputs[i] for i in testSample]\n",
        "\n",
        "# representation: tf-idf features - word granularity\n",
        "from sklearn.feature_extraction.text import TfidfVectorizer\n",
        "vectorizer = TfidfVectorizer(max_features=50)\n",
        "\n",
        "trainFeatures = vectorizer.fit_transform(trainInputs)\n",
        "testFeatures = vectorizer.transform(testInputs)"
      ],
      "execution_count": 63,
      "outputs": []
    },
    {
      "cell_type": "markdown",
      "metadata": {
        "id": "yCNDXvhLl9uV"
      },
      "source": [
        "### Antrenarea unui model de predictie"
      ]
    },
    {
      "cell_type": "code",
      "metadata": {
        "id": "Nhvgg638l9uX",
        "colab": {
          "base_uri": "https://localhost:8080/"
        },
        "cellView": "form",
        "outputId": "133a7a76-4909-40f7-cc43-f848506950d6"
      },
      "source": [
        "#@title run the code bellow for traing (please be patient!!!)\n",
        "\n",
        "from sklearn.tree import DecisionTreeClassifier\n",
        "\n",
        "classifier = DecisionTreeClassifier()\n",
        "classifier.fit(trainFeatures, trainOutputs)\n",
        "computedLabels = classifier.predict(testFeatures)\n",
        "\n",
        "from sklearn.metrics import accuracy_score\n",
        "print(\"acc: \", accuracy_score(testOutputs, computedLabels))\n"
      ],
      "execution_count": 64,
      "outputs": [
        {
          "output_type": "stream",
          "text": [
            "acc:  0.9327354260089686\n"
          ],
          "name": "stdout"
        }
      ]
    },
    {
      "cell_type": "markdown",
      "metadata": {
        "id": "OGKB2XFkl9uX"
      },
      "source": [
        "### Utilizarea modelului de predictie pentru a eticheta alte mesaje"
      ]
    },
    {
      "cell_type": "code",
      "metadata": {
        "cellView": "form",
        "id": "pZ3eyUjMl9uX",
        "colab": {
          "base_uri": "https://localhost:8080/"
        },
        "outputId": "05834b67-fb07-4c07-cbe9-fd1e29f273ea"
      },
      "source": [
        "#@title run the code bellow for predicting the type of new messages\n",
        "\n",
        "pred_test_labels = model.predict(test_images)\n",
        "\n",
        "test_loss, test_acc = model.evaluate(test_images, test_labels)\n",
        "print('test caccuracy:', test_acc)"
      ],
      "execution_count": 65,
      "outputs": [
        {
          "output_type": "stream",
          "text": [
            "113/113 [==============================] - 3s 25ms/step - loss: 1.3634 - accuracy: 0.5436\n",
            "test caccuracy: 0.5436054468154907\n"
          ],
          "name": "stdout"
        }
      ]
    },
    {
      "cell_type": "code",
      "metadata": {
        "cellView": "form",
        "id": "Yqec7Rv0l9uY",
        "colab": {
          "base_uri": "https://localhost:8080/"
        },
        "outputId": "a0471fca-2986-4e35-afe7-ed37ecc02186"
      },
      "source": [
        "#@title run the code below to see several predictions \n",
        "\n",
        "\n",
        "print('Message: [', testInputs[0], '] is a', computedLabels[0])\n",
        "print('Message: [', testInputs[20][:70], '] is a', computedLabels[20])\n",
        "\n"
      ],
      "execution_count": 66,
      "outputs": [
        {
          "output_type": "stream",
          "text": [
            "Message: [ Fine if thatåÕs the way u feel. ThatåÕs the way its gota b ] is a ham\n",
            "Message: [ Todays Voda numbers ending 7548 are selected to receive a $350 award.  ] is a spam\n"
          ],
          "name": "stdout"
        }
      ]
    }
  ]
}
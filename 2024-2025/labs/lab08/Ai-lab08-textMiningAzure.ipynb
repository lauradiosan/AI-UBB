{
 "cells": [
  {
   "cell_type": "markdown",
   "metadata": {},
   "source": [
    "Check this Azure tutorial [link](https://learn.microsoft.com/en-us/azure/ai-services/language-service/sentiment-opinion-mining/quickstart?tabs=windows&pivots=programming-language-python)"
   ]
  },
  {
   "cell_type": "code",
   "execution_count": null,
   "metadata": {},
   "outputs": [],
   "source": [
    "pip install azure-ai-textanalytics==5.2.0"
   ]
  },
  {
   "cell_type": "code",
   "execution_count": 18,
   "metadata": {},
   "outputs": [
    {
     "name": "stdout",
     "output_type": "stream",
     "text": [
      "In this sample we will be combing through reviews customers have left about theirexperience using our skydiving company, Contoso.\n",
      "We start out with a list of reviews. Let us extract the reviews we are sure are positive, so we can display them on our website and get even more customers!\n"
     ]
    }
   ],
   "source": [
    "# [START analyze_sentiment]\n",
    "import os\n",
    "from azure.core.credentials import AzureKeyCredential\n",
    "from azure.ai.textanalytics import TextAnalyticsClient"
   ]
  },
  {
   "cell_type": "code",
   "execution_count": 19,
   "metadata": {},
   "outputs": [],
   "source": [
    "endpoint = os.environ[\"LANGUAGE_ENDPOINT\"]\n",
    "key = os.environ[\"LANGUAGE_KEY\"]\n",
    "\n",
    "client = TextAnalyticsClient(endpoint=endpoint, credential=AzureKeyCredential(key))\n"
   ]
  },
  {
   "cell_type": "code",
   "execution_count": 24,
   "metadata": {},
   "outputs": [
    {
     "name": "stdout",
     "output_type": "stream",
     "text": [
      "Let's visualize the sentiment of each of these documents\n",
      "Document text: I had the best day of my life. I decided to go sky-diving and it made me appreciate my whole life so much more. I developed a deep-connection with my instructor as well, and I feel as if I've made a life-long friend in her.\n",
      "Overall sentiment: positive\n",
      "Document text: This was a waste of my time. All of the views on this drop are extremely boring, all I saw was grass. 0/10 would not recommend to any divers, even first timers.\n",
      "Overall sentiment: negative\n",
      "Document text: This was pretty good! The sights were ok, and I had fun with my instructors! Can't complain too much about my experience\n",
      "Overall sentiment: positive\n",
      "Document text: I only have one word for my experience: WOW!!! I can't believe I have had such a wonderful skydiving company right in my backyard this whole time! I will definitely be a repeat customer, and I want to take my grandmother skydiving too, I know she'll love it!\n",
      "Overall sentiment: positive\n"
     ]
    }
   ],
   "source": [
    "\n",
    "\n",
    "documents = [\n",
    "    \"I had the best day of my life. I decided to go sky-diving and it made me appreciate my whole life so much more. I developed a deep-connection with my instructor as well, and I feel as if I've made a life-long friend in her.\",\n",
    "    \"This was a waste of my time. All of the views on this drop are extremely boring, all I saw was grass. 0/10 would not recommend to any divers, even first timers.\",\n",
    "    \"This was pretty good! The sights were ok, and I had fun with my instructors! Can't complain too much about my experience\",\n",
    "    \"I only have one word for my experience: WOW!!! I can't believe I have had such a wonderful skydiving company right in my backyard this whole time! I will definitely be a repeat customer, and I want to take my grandmother skydiving too, I know she'll love it!\"\n",
    "]\n",
    "\n",
    "result = client.analyze_sentiment(documents, show_opinion_mining=True)\n",
    "docs = [doc for doc in result if not doc.is_error]\n",
    "\n",
    "print(\"Let's visualize the sentiment of each of these documents\")\n",
    "for idx, doc in enumerate(docs):\n",
    "    print(f\"Document text: {documents[idx]}\")\n",
    "    print(f\"Overall sentiment: {doc.sentiment}\")\n"
   ]
  }
 ],
 "metadata": {
  "kernelspec": {
   "display_name": "Python 3",
   "language": "python",
   "name": "python3"
  },
  "language_info": {
   "codemirror_mode": {
    "name": "ipython",
    "version": 3
   },
   "file_extension": ".py",
   "mimetype": "text/x-python",
   "name": "python",
   "nbconvert_exporter": "python",
   "pygments_lexer": "ipython3",
   "version": "3.11.5"
  }
 },
 "nbformat": 4,
 "nbformat_minor": 2
}
